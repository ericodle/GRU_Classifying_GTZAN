{
  "nbformat": 4,
  "nbformat_minor": 0,
  "metadata": {
    "colab": {
      "name": "MFCC_Train_Val_PNGs.ipynb",
      "provenance": [],
      "collapsed_sections": [],
      "mount_file_id": "1A7ZCura_RoEaLM-J9WsnVTsLOSdUb25I",
      "authorship_tag": "ABX9TyPv4nWP2S7w66QdPxgH+Iau",
      "include_colab_link": true
    },
    "kernelspec": {
      "name": "python3",
      "display_name": "Python 3"
    },
    "language_info": {
      "name": "python"
    }
  },
  "cells": [
    {
      "cell_type": "markdown",
      "metadata": {
        "id": "view-in-github",
        "colab_type": "text"
      },
      "source": [
        "<a href=\"https://colab.research.google.com/github/ericodle/Genre-Classification-Using-LSTM/blob/main/MFCC_Train_Val_PNGs.ipynb\" target=\"_parent\"><img src=\"https://colab.research.google.com/assets/colab-badge.svg\" alt=\"Open In Colab\"/></a>"
      ]
    },
    {
      "cell_type": "code",
      "source": [
        "from google.colab import drive\n",
        "drive.mount('/content/drive')"
      ],
      "metadata": {
        "id": "PySxbCoVR21H",
        "colab": {
          "base_uri": "https://localhost:8080/"
        },
        "outputId": "06122d54-523b-45c1-e083-340caff26d5b"
      },
      "execution_count": 1,
      "outputs": [
        {
          "output_type": "stream",
          "name": "stdout",
          "text": [
            "Drive already mounted at /content/drive; to attempt to forcibly remount, call drive.mount(\"/content/drive\", force_remount=True).\n"
          ]
        }
      ]
    },
    {
      "cell_type": "code",
      "source": [
        "import os\n",
        "import csv\n",
        "import librosa\n",
        "import pandas as pd\n",
        "import torch\n",
        "import matplotlib.pyplot as plt\n",
        "import numpy as np\n",
        "from librosa import display"
      ],
      "metadata": {
        "id": "tVD0BpEeR3vH"
      },
      "execution_count": 14,
      "outputs": []
    },
    {
      "cell_type": "code",
      "source": [
        "folderpath='/content/drive/MyDrive/genres/'\n",
        "genres=['blues', 'classical', 'country', 'disco', 'hiphop', 'jazz', 'metal', 'pop', 'reggae', 'rock']"
      ],
      "metadata": {
        "id": "5DJI-wHPab42"
      },
      "execution_count": 5,
      "outputs": []
    },
    {
      "cell_type": "code",
      "source": [
        "for i in genres:\n",
        "    counter=0\n",
        "    for filename in os.listdir(folderpath+i):\n",
        "        counter+=1\n",
        "        if counter<=90:\n",
        "            x, sr = librosa.load(folderpath+i+\"/\"+filename)\n",
        "            \n",
        "            mfccs = librosa.feature.mfcc(x, sr=sr, n_fft=2048, hop_length=512, n_mfcc=13)\n",
        "            \n",
        "            librosa.display.specshow(mfccs)\n",
        "            plt.tight_layout()\n",
        "            plt.savefig('/content/drive/MyDrive/Colab Notebooks/train_set/'+i+'/'+filename+'.png')\n",
        "\n",
        "            \n",
        "        elif counter>90:\n",
        "            x, sr = librosa.load(folderpath+i+\"/\"+filename)\n",
        "            \n",
        "            mfccs = librosa.feature.mfcc(x, sr=sr, n_fft=2048, hop_length=512, n_mfcc=13)\n",
        "            \n",
        "            librosa.display.specshow(mfccs)\n",
        "            plt.tight_layout()\n",
        "            plt.savefig('/content/drive/MyDrive/Colab Notebooks/val_set/'+i+'/'+filename+'.png')\n",
        "            "
      ],
      "metadata": {
        "id": "hBi0hA4GR7uP",
        "colab": {
          "base_uri": "https://localhost:8080/",
          "height": 297
        },
        "outputId": "fc1291b4-afce-4096-e3e1-bacae6f07f8a"
      },
      "execution_count": 18,
      "outputs": [
        {
          "output_type": "display_data",
          "data": {
            "image/png": "[encoded data removed]",
            "text/plain": [
              "<Figure size 432x288 with 1 Axes>"
            ]
          },
          "metadata": {}
        }
      ]
    }
  ]
}