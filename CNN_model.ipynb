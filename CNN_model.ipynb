{
  "nbformat": 4,
  "nbformat_minor": 0,
  "metadata": {
    "colab": {
      "name": "CNN_model.ipynb",
      "provenance": [],
      "collapsed_sections": [],
      "mount_file_id": "1tcwOaE0R1gZj3R3yt9D14_tY6u1Mpnqy",
      "authorship_tag": "ABX9TyPNLPDl/I/usvPnW5T+k8Yb",
      "include_colab_link": true
    },
    "kernelspec": {
      "name": "python3",
      "display_name": "Python 3"
    },
    "language_info": {
      "name": "python"
    },
    "accelerator": "GPU"
  },
  "cells": [
    {
      "cell_type": "markdown",
      "metadata": {
        "id": "view-in-github",
        "colab_type": "text"
      },
      "source": [
        "<a href=\"https://colab.research.google.com/github/ericodle/Genre-Classification-Using-LSTM/blob/main/CNN_model.ipynb\" target=\"_parent\"><img src=\"https://colab.research.google.com/assets/colab-badge.svg\" alt=\"Open In Colab\"/></a>"
      ]
    },
    {
      "cell_type": "code",
      "execution_count": 1,
      "metadata": {
        "colab": {
          "base_uri": "https://localhost:8080/"
        },
        "id": "nlbr7kiwdJ2x",
        "outputId": "af0601ec-a58c-402e-90a0-33742a273dc4"
      },
      "outputs": [
        {
          "output_type": "stream",
          "name": "stdout",
          "text": [
            "Drive already mounted at /content/drive; to attempt to forcibly remount, call drive.mount(\"/content/drive\", force_remount=True).\n"
          ]
        }
      ],
      "source": [
        "from google.colab import drive\n",
        "drive.mount('/content/drive')"
      ]
    },
    {
      "cell_type": "code",
      "source": [
        "import json\n",
        "import numpy as np\n",
        "from sklearn.model_selection import train_test_split\n",
        "import os\n",
        "import torch\n",
        "from torch import nn\n",
        "from torch.utils.data import DataLoader\n",
        "from torchvision import transforms\n",
        "import torch.optim as optim\n",
        "from torch.optim.lr_scheduler import _LRScheduler\n",
        "from torch.nn import functional as F"
      ],
      "metadata": {
        "id": "61zO5hBoQ45H"
      },
      "execution_count": 2,
      "outputs": []
    },
    {
      "cell_type": "code",
      "source": [
        "# Ensure that all operations are deterministic on GPU (if used) for reproducibility\n",
        "torch.backends.cudnn.determinstic = True\n",
        "torch.backends.cudnn.benchmark = False\n",
        "\n",
        "# Fetching the device that will be used throughout this notebook\n",
        "device = torch.device(\"cpu\") if not torch.cuda.is_available() else torch.device(\"cuda:0\")\n",
        "print(\"Using device\", device)"
      ],
      "metadata": {
        "colab": {
          "base_uri": "https://localhost:8080/"
        },
        "id": "4Rxa_LeEIH5h",
        "outputId": "3fad0da2-5d15-47e9-9736-999952e8e0d7"
      },
      "execution_count": 3,
      "outputs": [
        {
          "output_type": "stream",
          "name": "stdout",
          "text": [
            "Using device cuda:0\n"
          ]
        }
      ]
    },
    {
      "cell_type": "code",
      "source": [
        "# path to json file that stores MFCCs and genre labels for each processed segment\n",
        "DATA_PATH = \"/content/drive/MyDrive/\"\n",
        "FILENAME = \"data_10.json\""
      ],
      "metadata": {
        "id": "Kl3YnRykRKx5"
      },
      "execution_count": 4,
      "outputs": []
    },
    {
      "cell_type": "code",
      "source": [
        "def load_data(data_path):\n",
        "    \"\"\"Loads training dataset from json file.\n",
        "        :param data_path (str): Path to json file containing data\n",
        "        :return X (ndarray): Inputs\n",
        "        :return y (ndarray): Targets\n",
        "    \"\"\"\n",
        "\n",
        "    with open(data_path, \"r\") as fp:\n",
        "        data = json.load(fp)\n",
        "\n",
        "    # convert lists to numpy arrays\n",
        "    X = np.array(data[\"mfcc\"])\n",
        "    y = np.array(data[\"labels\"])\n",
        "\n",
        "    print(\"Data succesfully loaded!\")\n",
        "\n",
        "    return  X, y"
      ],
      "metadata": {
        "id": "06G05AWGRKJx"
      },
      "execution_count": 5,
      "outputs": []
    },
    {
      "cell_type": "code",
      "source": [
        "def train_val_test_split(X, y, test_ratio):\n",
        "    val_ratio = test_ratio / (1 - test_ratio)\n",
        "    X_train, X_test, y_train, y_test = train_test_split(X, y, test_size=test_ratio, shuffle=True)\n",
        "    X_train, X_val, y_train, y_val = train_test_split(X_train, y_train, test_size=val_ratio, shuffle=True)\n",
        "    return X_train, X_val, X_test, y_train, y_val, y_test"
      ],
      "metadata": {
        "id": "1QGkW14erYuJ"
      },
      "execution_count": 6,
      "outputs": []
    },
    {
      "cell_type": "code",
      "source": [
        "# load data\n",
        "X, y = load_data(DATA_PATH+FILENAME)\n",
        "\n",
        "# create train/test split\n",
        "X_train, X_val, X_test, y_train, y_val, y_test = train_val_test_split(X, y, 0.1)"
      ],
      "metadata": {
        "colab": {
          "base_uri": "https://localhost:8080/"
        },
        "id": "qkxPkDbySnSb",
        "outputId": "ba8f1a54-f972-4bd1-eb2c-8c41b3587da8"
      },
      "execution_count": 7,
      "outputs": [
        {
          "output_type": "stream",
          "name": "stdout",
          "text": [
            "Data succesfully loaded!\n"
          ]
        }
      ]
    },
    {
      "cell_type": "code",
      "source": [
        "print(\"train, val, test mfccs\")\n",
        "print(X_train.shape)\n",
        "print(X_val.shape)\n",
        "print(X_test.shape)\n",
        "print(\"train, val, test targets(labels)\")\n",
        "print(y_train.shape)\n",
        "print(y_val.shape)\n",
        "print(y_test.shape)"
      ],
      "metadata": {
        "id": "iVHAzJU-x-0E",
        "outputId": "693415a2-5539-495c-be59-decd7f504d5d",
        "colab": {
          "base_uri": "https://localhost:8080/"
        }
      },
      "execution_count": 8,
      "outputs": [
        {
          "output_type": "stream",
          "name": "stdout",
          "text": [
            "train, val, test mfccs\n",
            "(7996, 130, 13)\n",
            "(1000, 130, 13)\n",
            "(1000, 130, 13)\n",
            "train, val, test targets(labels)\n",
            "(7996,)\n",
            "(1000,)\n",
            "(1000,)\n"
          ]
        }
      ]
    },
    {
      "cell_type": "code",
      "source": [
        "from torch.utils.data import TensorDataset, DataLoader\n",
        "\n",
        "tensor_X_train = torch.Tensor(X_train)\n",
        "tensor_X_val = torch.Tensor(X_val)\n",
        "tensor_y_train = torch.Tensor(y_train)\n",
        "tensor_y_val = torch.Tensor(y_val)\n",
        "tensor_X_test = torch.Tensor(X_test)\n",
        "tensor_y_test = torch.Tensor(y_test)\n",
        "\n",
        "train_dataset = TensorDataset(tensor_X_train,tensor_y_train)\n",
        "val_dataset = TensorDataset(tensor_X_val,tensor_y_val)\n",
        "test_dataset = TensorDataset(tensor_X_test,tensor_y_test)\n",
        "\n",
        "train_dataloader = DataLoader(train_dataset, batch_size=64, shuffle=True)\n",
        "val_dataloader = DataLoader(val_dataset, batch_size=64, shuffle=True)\n",
        "test_dataloader = DataLoader(test_dataset, batch_size=64, shuffle=True)"
      ],
      "metadata": {
        "id": "FqfTDVtsekMb"
      },
      "execution_count": 9,
      "outputs": []
    },
    {
      "cell_type": "code",
      "source": [
        "class CNN(nn.Module):\n",
        "  \n",
        "  def __init__(self):\n",
        "    super().__init__()\n",
        "    self.layers = nn.Sequential(\n",
        "### Convolutional layer\n",
        "      \n",
        "      nn.Conv2d(1,256,kernel_size=(3,3), padding=1),\n",
        "      nn.ReLU(),\n",
        "      nn.Conv2d(256,256,kernel_size=(3,3), padding=1),\n",
        "      nn.ReLU(),\n",
        "      nn.AvgPool2d(3, stride=2),\n",
        "      nn.BatchNorm2d(256),\n",
        "      nn.Conv2d(256,256,kernel_size=(3,3), padding=1),\n",
        "      nn.ReLU(),\n",
        "      nn.AvgPool2d(3, stride=2),  \n",
        "      nn.BatchNorm2d(256),\n",
        "      nn.Conv2d(256,512,kernel_size=(4,4), padding=1),\n",
        "      nn.ReLU(),\n",
        "      nn.AvgPool2d(1, stride=2),\n",
        "      nn.BatchNorm2d(512),\n",
        "\n",
        "### Fully-connected layer\n",
        "      nn.Flatten(),\n",
        "      nn.ReLU(),\n",
        "\n",
        "      nn.Linear(7680, 256),\n",
        "      nn.ReLU(),\n",
        "      nn.Dropout(p=0.2),\n",
        "\n",
        "      nn.Linear(256, 128),\n",
        "      nn.ReLU(),\n",
        "      nn.Dropout(p=0.2),\n",
        "\n",
        "      nn.Linear(128, 10),\n",
        "      nn.Softmax()\n",
        "    )\n",
        "\n",
        "\n",
        "  def forward(self, x):\n",
        "    '''Forward pass'''\n",
        "    return self.layers(x)"
      ],
      "metadata": {
        "id": "z-aToJU27Utr"
      },
      "execution_count": 58,
      "outputs": []
    },
    {
      "cell_type": "code",
      "source": [
        "def accuracy(out, labels):\n",
        "\n",
        "    _,pred = torch.max(out, dim=1)\n",
        "\n",
        "    return torch.sum(pred==labels).item()"
      ],
      "metadata": {
        "id": "-c7jpLNfWh13"
      },
      "execution_count": 11,
      "outputs": []
    },
    {
      "cell_type": "code",
      "source": [
        "class CyclicLR(_LRScheduler):\n",
        "    \n",
        "    def __init__(self, optimizer, schedule, last_epoch=-1):\n",
        "        assert callable(schedule)\n",
        "        self.schedule = schedule\n",
        "        super().__init__(optimizer, last_epoch)\n",
        "\n",
        "    def get_lr(self):\n",
        "        return [self.schedule(self.last_epoch, lr) for lr in self.base_lrs]"
      ],
      "metadata": {
        "id": "yDRkXWhnpTZz"
      },
      "execution_count": 12,
      "outputs": []
    },
    {
      "cell_type": "code",
      "source": [
        "def cosine(t_max, eta_min=0):\n",
        "    \n",
        "    def scheduler(epoch, base_lr):\n",
        "        t = epoch % t_max\n",
        "        return eta_min + (base_lr - eta_min)*(1 + np.cos(np.pi*t/t_max))/2\n",
        "    \n",
        "    return scheduler"
      ],
      "metadata": {
        "id": "QE4cNf1Sphqz"
      },
      "execution_count": 13,
      "outputs": []
    },
    {
      "cell_type": "code",
      "source": [
        "train_acc = []\n",
        "val_acc = []\n",
        "\n",
        "lr = 0.0005\n",
        "n_epochs = 200\n",
        "iterations_per_epoch = len(train_dataloader)\n",
        "best_acc = 0\n",
        "patience, trials = 30, 0\n",
        "\n",
        "model = CNN()\n",
        "model = model.to(device)\n",
        "criterion = nn.CrossEntropyLoss()\n",
        "opt = torch.optim.Adam(model.parameters(), lr=lr)\n",
        "sched = CyclicLR(opt, cosine(t_max=iterations_per_epoch * 2, eta_min=lr/100))\n",
        "\n",
        "print('Start model training')\n",
        "\n",
        "for epoch in range(1, n_epochs + 1):\n",
        "\n",
        "    \n",
        "    tcorrect, ttotal = 0, 0\n",
        "    for (x_batch, y_batch) in train_dataloader:\n",
        "        model.train()\n",
        "        x_batch = x_batch.unsqueeze(1)\n",
        "        x_batch, y_batch = [t.cuda() for t in (x_batch, y_batch)]\n",
        "        y_batch = y_batch.to(torch.int64)\n",
        "        sched.step()\n",
        "        opt.zero_grad()\n",
        "        out = model(x_batch)\n",
        "        loss = criterion(out, y_batch)\n",
        "        loss.backward()\n",
        "        opt.step()\n",
        "\n",
        "        _,pred = torch.max(out, dim=1)\n",
        "        ttotal += y_batch.size(0)\n",
        "        tcorrect += torch.sum(pred==y_batch).item()\n",
        "\n",
        "    train_acc.append(100 * tcorrect / ttotal)\n",
        "    \n",
        "    model.eval()\n",
        "    vcorrect, vtotal = 0, 0\n",
        "    for x_val, y_val in val_dataloader:\n",
        "        x_val = x_val.unsqueeze(1)\n",
        "        x_val, y_val = [t.cuda() for t in (x_val, y_val)]\n",
        "        out = model(x_val)\n",
        "        preds = F.log_softmax(out, dim=1).argmax(dim=1)\n",
        "        vtotal += y_val.size(0)\n",
        "        vcorrect += (preds == y_val).sum().item()\n",
        "    \n",
        "    vacc = vcorrect / vtotal\n",
        "    val_acc.append(vacc*100)\n",
        "\n",
        "    if epoch % 5 == 0:\n",
        "        print(f'Epoch: {epoch:3d}. Loss: {loss.item():.4f}. Val Acc.: {vacc:2.2%}')\n",
        "\n",
        "    if vacc > best_acc:\n",
        "        trials = 0\n",
        "        best_acc = vacc\n",
        "        torch.save(model, DATA_PATH+\"model\")\n",
        "        print(f'Epoch {epoch} best model saved with val accuracy: {best_acc:2.2%}')\n",
        "    else:\n",
        "        trials += 1\n",
        "        if trials >= patience:\n",
        "            print(f'Early stopping on epoch {epoch}')\n",
        "            break"
      ],
      "metadata": {
        "id": "gHEiCNcGoX7W",
        "colab": {
          "base_uri": "https://localhost:8080/"
        },
        "outputId": "968c914e-67c3-4716-c4c9-092ff600450a"
      },
      "execution_count": 60,
      "outputs": [
        {
          "output_type": "stream",
          "name": "stdout",
          "text": [
            "Start model training\n"
          ]
        },
        {
          "output_type": "stream",
          "name": "stderr",
          "text": [
            "/usr/local/lib/python3.7/dist-packages/torch/optim/lr_scheduler.py:134: UserWarning: Detected call of `lr_scheduler.step()` before `optimizer.step()`. In PyTorch 1.1.0 and later, you should call them in the opposite order: `optimizer.step()` before `lr_scheduler.step()`.  Failure to do this will result in PyTorch skipping the first value of the learning rate schedule. See more details at https://pytorch.org/docs/stable/optim.html#how-to-adjust-learning-rate\n",
            "  \"https://pytorch.org/docs/stable/optim.html#how-to-adjust-learning-rate\", UserWarning)\n",
            "/usr/local/lib/python3.7/dist-packages/torch/nn/modules/container.py:141: UserWarning: Implicit dimension choice for softmax has been deprecated. Change the call to include dim=X as an argument.\n",
            "  input = module(input)\n"
          ]
        },
        {
          "output_type": "stream",
          "name": "stdout",
          "text": [
            "Epoch 1 best model saved with val accuracy: 48.30%\n",
            "Epoch 2 best model saved with val accuracy: 57.70%\n",
            "Epoch 4 best model saved with val accuracy: 62.30%\n",
            "Epoch:   5. Loss: 1.7918. Val Acc.: 55.40%\n",
            "Epoch 6 best model saved with val accuracy: 64.10%\n",
            "Epoch 8 best model saved with val accuracy: 66.40%\n",
            "Epoch:  10. Loss: 1.8571. Val Acc.: 70.20%\n",
            "Epoch 10 best model saved with val accuracy: 70.20%\n",
            "Epoch 14 best model saved with val accuracy: 71.70%\n",
            "Epoch:  15. Loss: 1.7290. Val Acc.: 65.10%\n",
            "Epoch 16 best model saved with val accuracy: 72.40%\n",
            "Epoch 18 best model saved with val accuracy: 74.80%\n",
            "Epoch:  20. Loss: 1.7751. Val Acc.: 74.20%\n",
            "Epoch 22 best model saved with val accuracy: 76.10%\n",
            "Epoch 24 best model saved with val accuracy: 76.70%\n",
            "Epoch:  25. Loss: 1.6656. Val Acc.: 72.80%\n",
            "Epoch 28 best model saved with val accuracy: 77.00%\n",
            "Epoch:  30. Loss: 1.5707. Val Acc.: 78.40%\n",
            "Epoch 30 best model saved with val accuracy: 78.40%\n",
            "Epoch 34 best model saved with val accuracy: 80.20%\n",
            "Epoch:  35. Loss: 1.5593. Val Acc.: 78.30%\n",
            "Epoch 38 best model saved with val accuracy: 80.60%\n",
            "Epoch:  40. Loss: 1.6500. Val Acc.: 79.80%\n",
            "Epoch 44 best model saved with val accuracy: 82.30%\n",
            "Epoch:  45. Loss: 1.5666. Val Acc.: 78.90%\n",
            "Epoch:  50. Loss: 1.4803. Val Acc.: 82.70%\n",
            "Epoch 50 best model saved with val accuracy: 82.70%\n",
            "Epoch:  55. Loss: 1.5589. Val Acc.: 80.40%\n",
            "Epoch:  60. Loss: 1.5426. Val Acc.: 82.10%\n",
            "Epoch:  65. Loss: 1.5294. Val Acc.: 81.40%\n",
            "Epoch 66 best model saved with val accuracy: 83.10%\n",
            "Epoch:  70. Loss: 1.4962. Val Acc.: 81.70%\n",
            "Epoch:  75. Loss: 1.5241. Val Acc.: 79.80%\n",
            "Epoch 77 best model saved with val accuracy: 83.60%\n",
            "Epoch:  80. Loss: 1.4963. Val Acc.: 81.50%\n",
            "Epoch:  85. Loss: 1.5106. Val Acc.: 80.70%\n",
            "Epoch:  90. Loss: 1.4925. Val Acc.: 81.80%\n",
            "Epoch:  95. Loss: 1.5289. Val Acc.: 80.00%\n",
            "Epoch: 100. Loss: 1.4780. Val Acc.: 82.00%\n",
            "Epoch: 105. Loss: 1.5116. Val Acc.: 79.40%\n",
            "Early stopping on epoch 107\n"
          ]
        }
      ]
    },
    {
      "cell_type": "code",
      "source": [
        "import matplotlib.pyplot as plt\n",
        "\n",
        "fig = plt.figure(figsize=(20,10))\n",
        "\n",
        "plt.title(\"Train-Validation Accuracy\")\n",
        "\n",
        "plt.plot(train_acc, label='train')\n",
        "\n",
        "plt.plot(val_acc, label='validation')\n",
        "\n",
        "plt.xlabel('num_epochs', fontsize=12)\n",
        "\n",
        "plt.ylabel('accuracy', fontsize=12)\n",
        "\n",
        "plt.ylim((0,100))\n",
        "#plt.xlim((0,n_epochs))\n",
        "\n",
        "plt.legend(loc='best')"
      ],
      "metadata": {
        "id": "mnyDpY1LXrnI",
        "colab": {
          "base_uri": "https://localhost:8080/",
          "height": 563
        },
        "outputId": "ddc5ae8a-cc34-4f76-9382-561b3be20883"
      },
      "execution_count": 61,
      "outputs": [
        {
          "output_type": "execute_result",
          "data": {
            "text/plain": [
              "<matplotlib.legend.Legend at 0x7f9322be2d90>"
            ]
          },
          "metadata": {},
          "execution_count": 61
        },
        {
          "output_type": "display_data",
          "data": {
            "image/png": "[encoded data removed]",
            "text/plain": [
              "<Figure size 1440x720 with 1 Axes>"
            ]
          },
          "metadata": {
            "needs_background": "light"
          }
        }
      ]
    },
    {
      "cell_type": "code",
      "source": [
        "#Evaluate on test dataset\n",
        "\n",
        "torch.no_grad()\n",
        "count = 0\n",
        "correct = 0\n",
        "\n",
        "true = []\n",
        "preds = []\n",
        "\n",
        "model=model.to(device)\n",
        "\n",
        "for X_testbatch, y_testbatch in test_dataloader:\n",
        "    X_testbatch = X_testbatch.unsqueeze(1).to(device)\n",
        "    y_testbatch = y_testbatch.to(device)\n",
        "\n",
        "    y_val = model(X_testbatch)\n",
        "        \n",
        "    predicted = torch.max(y_val,1)[1]\n",
        "    \n",
        "    count+= y_testbatch.size(dim=0)\n",
        "    correct += (predicted == y_testbatch).sum()\n",
        "\n",
        "    true.append(y_testbatch)\n",
        "    preds.append(predicted)\n",
        "\n",
        "ground_truth = torch.cat(true)\n",
        "predicted_genres = torch.cat(preds)\n",
        "print(f'Test accuracy: {correct.item()}/{count} = {correct.item()*100/(count):7.2f}%')"
      ],
      "metadata": {
        "id": "K74OWyTzxgRM",
        "outputId": "29572098-35a0-4d96-ba23-f0c97e5a2bd3",
        "colab": {
          "base_uri": "https://localhost:8080/"
        }
      },
      "execution_count": 62,
      "outputs": [
        {
          "output_type": "stream",
          "name": "stderr",
          "text": [
            "/usr/local/lib/python3.7/dist-packages/torch/nn/modules/container.py:141: UserWarning: Implicit dimension choice for softmax has been deprecated. Change the call to include dim=X as an argument.\n",
            "  input = module(input)\n"
          ]
        },
        {
          "output_type": "stream",
          "name": "stdout",
          "text": [
            "Test accuracy: 813/1000 =   81.30%\n"
          ]
        }
      ]
    },
    {
      "cell_type": "code",
      "source": [
        "from sklearn.metrics import confusion_matrix\n",
        "import pandas as pd\n",
        "import seaborn as sns\n",
        "\n",
        "# Display the confusion matrix as a heatmap\n",
        "arr = confusion_matrix(ground_truth.view(-1).detach().cpu().numpy(), predicted_genres.view(-1).detach().cpu().numpy())\n",
        "class_names = ['pop', 'classical', 'jazz', 'hiphop', 'reggae', 'disco', ' metal', 'country', 'blues', 'rock']\n",
        "df_cm = pd.DataFrame(arr, class_names, class_names)\n",
        "plt.figure(figsize = (10,7))\n",
        "sns.heatmap(df_cm, annot=True, fmt=\"d\", cmap='BuGn')\n",
        "plt.xlabel(\"prediction\")\n",
        "plt.ylabel(\"ground truth\")\n",
        "plt.title('Confusion Matrix', fontsize=15)\n",
        "plt.show() \n"
      ],
      "metadata": {
        "id": "qmFtTl5exZV5",
        "outputId": "61b4fc35-90dc-400c-8719-c123046d9404",
        "colab": {
          "base_uri": "https://localhost:8080/",
          "height": 460
        }
      },
      "execution_count": 63,
      "outputs": [
        {
          "output_type": "display_data",
          "data": {
            "image/png": "[encoded data removed]",
            "text/plain": [
              "<Figure size 720x504 with 2 Axes>"
            ]
          },
          "metadata": {
            "needs_background": "light"
          }
        }
      ]
    }
  ]
}