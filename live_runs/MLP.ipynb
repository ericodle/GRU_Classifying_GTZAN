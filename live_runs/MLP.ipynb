{
  "nbformat": 4,
  "nbformat_minor": 0,
  "metadata": {
    "colab": {
      "name": "MLP_model.ipynb",
      "provenance": [],
      "collapsed_sections": [],
      "mount_file_id": "1tcwOaE0R1gZj3R3yt9D14_tY6u1Mpnqy",
      "authorship_tag": "ABX9TyMLk+UTZ04Ro399W3Qv409S",
      "include_colab_link": true
    },
    "kernelspec": {
      "name": "python3",
      "display_name": "Python 3"
    },
    "language_info": {
      "name": "python"
    },
    "accelerator": "GPU"
  },
  "cells": [
    {
      "cell_type": "markdown",
      "metadata": {
        "id": "view-in-github",
        "colab_type": "text"
      },
      "source": [
        "<a href=\"https://colab.research.google.com/github/ericodle/Genre-Classification-Using-LSTM/blob/main/MLP_model.ipynb\" target=\"_parent\"><img src=\"https://colab.research.google.com/assets/colab-badge.svg\" alt=\"Open In Colab\"/></a>"
      ]
    },
    {
      "cell_type": "code",
      "execution_count": 1,
      "metadata": {
        "colab": {
          "base_uri": "https://localhost:8080/"
        },
        "id": "nlbr7kiwdJ2x",
        "outputId": "0923c048-651a-4830-9125-4a5a2664651c"
      },
      "outputs": [
        {
          "output_type": "stream",
          "name": "stdout",
          "text": [
            "Drive already mounted at /content/drive; to attempt to forcibly remount, call drive.mount(\"/content/drive\", force_remount=True).\n"
          ]
        }
      ],
      "source": [
        "from google.colab import drive\n",
        "drive.mount('/content/drive')"
      ]
    },
    {
      "cell_type": "code",
      "source": [
        "import json\n",
        "import numpy as np\n",
        "from sklearn.model_selection import train_test_split\n",
        "import os\n",
        "import torch\n",
        "from torch import nn\n",
        "from torch.utils.data import DataLoader\n",
        "from torchvision import transforms\n",
        "import torch.optim as optim\n",
        "from torch.optim.lr_scheduler import _LRScheduler\n",
        "from torch.nn import functional as F"
      ],
      "metadata": {
        "id": "61zO5hBoQ45H"
      },
      "execution_count": 2,
      "outputs": []
    },
    {
      "cell_type": "code",
      "source": [
        "# Ensure that all operations are deterministic on GPU (if used) for reproducibility\n",
        "torch.backends.cudnn.determinstic = True\n",
        "torch.backends.cudnn.benchmark = False\n",
        "\n",
        "# Fetching the device that will be used throughout this notebook\n",
        "device = torch.device(\"cpu\") if not torch.cuda.is_available() else torch.device(\"cuda:0\")\n",
        "print(\"Using device\", device)"
      ],
      "metadata": {
        "colab": {
          "base_uri": "https://localhost:8080/"
        },
        "id": "4Rxa_LeEIH5h",
        "outputId": "f8674dbf-e18e-4ba9-ca10-20eda370d664"
      },
      "execution_count": 3,
      "outputs": [
        {
          "output_type": "stream",
          "name": "stdout",
          "text": [
            "Using device cuda:0\n"
          ]
        }
      ]
    },
    {
      "cell_type": "code",
      "source": [
        "# path to json file that stores MFCCs and genre labels for each processed segment\n",
        "DATA_PATH = \"/content/drive/MyDrive/\"\n",
        "FILENAME = \"data_10.json\""
      ],
      "metadata": {
        "id": "Kl3YnRykRKx5"
      },
      "execution_count": 4,
      "outputs": []
    },
    {
      "cell_type": "code",
      "source": [
        "def load_data(data_path):\n",
        "    \"\"\"Loads training dataset from json file.\n",
        "        :param data_path (str): Path to json file containing data\n",
        "        :return X (ndarray): Inputs\n",
        "        :return y (ndarray): Targets\n",
        "    \"\"\"\n",
        "\n",
        "    with open(data_path, \"r\") as fp:\n",
        "        data = json.load(fp)\n",
        "\n",
        "    # convert lists to numpy arrays\n",
        "    X = np.array(data[\"mfcc\"])\n",
        "    y = np.array(data[\"labels\"])\n",
        "\n",
        "    print(\"Data succesfully loaded!\")\n",
        "\n",
        "    return  X, y"
      ],
      "metadata": {
        "id": "06G05AWGRKJx"
      },
      "execution_count": 5,
      "outputs": []
    },
    {
      "cell_type": "code",
      "source": [
        "def train_val_test_split(X, y, test_ratio):\n",
        "    val_ratio = test_ratio / (1 - test_ratio)\n",
        "    X_train, X_test, y_train, y_test = train_test_split(X, y, test_size=test_ratio, shuffle=True)\n",
        "    X_train, X_val, y_train, y_val = train_test_split(X_train, y_train, test_size=val_ratio, shuffle=True)\n",
        "    return X_train, X_val, X_test, y_train, y_val, y_test"
      ],
      "metadata": {
        "id": "1QGkW14erYuJ"
      },
      "execution_count": 6,
      "outputs": []
    },
    {
      "cell_type": "code",
      "source": [
        "# load data\n",
        "X, y = load_data(DATA_PATH+FILENAME)\n",
        "\n",
        "# create train/test split\n",
        "X_train, X_val, X_test, y_train, y_val, y_test = train_val_test_split(X, y, 0.1)"
      ],
      "metadata": {
        "colab": {
          "base_uri": "https://localhost:8080/"
        },
        "id": "qkxPkDbySnSb",
        "outputId": "77fedf3c-0bcd-4d58-e2b0-8c5197c01f71"
      },
      "execution_count": 7,
      "outputs": [
        {
          "output_type": "stream",
          "name": "stdout",
          "text": [
            "Data succesfully loaded!\n"
          ]
        }
      ]
    },
    {
      "cell_type": "code",
      "source": [
        "print(\"train, val, test mfccs\")\n",
        "print(X_train.shape)\n",
        "print(X_val.shape)\n",
        "print(X_test.shape)\n",
        "print(\"train, val, test targets(labels)\")\n",
        "print(y_train.shape)\n",
        "print(y_val.shape)\n",
        "print(y_test.shape)"
      ],
      "metadata": {
        "id": "iVHAzJU-x-0E",
        "outputId": "c3f8f053-f28b-45b2-ee75-ddb451097ae4",
        "colab": {
          "base_uri": "https://localhost:8080/"
        }
      },
      "execution_count": 8,
      "outputs": [
        {
          "output_type": "stream",
          "name": "stdout",
          "text": [
            "train, val, test mfccs\n",
            "(7996, 130, 13)\n",
            "(1000, 130, 13)\n",
            "(1000, 130, 13)\n",
            "train, val, test targets(labels)\n",
            "(7996,)\n",
            "(1000,)\n",
            "(1000,)\n"
          ]
        }
      ]
    },
    {
      "cell_type": "code",
      "source": [
        "from torch.utils.data import TensorDataset, DataLoader\n",
        "\n",
        "tensor_X_train = torch.Tensor(X_train)\n",
        "tensor_X_val = torch.Tensor(X_val)\n",
        "tensor_y_train = torch.Tensor(y_train)\n",
        "tensor_y_val = torch.Tensor(y_val)\n",
        "tensor_X_test = torch.Tensor(X_test)\n",
        "tensor_y_test = torch.Tensor(y_test)\n",
        "\n",
        "train_dataset = TensorDataset(tensor_X_train,tensor_y_train)\n",
        "val_dataset = TensorDataset(tensor_X_val,tensor_y_val)\n",
        "test_dataset = TensorDataset(tensor_X_test,tensor_y_test)\n",
        "\n",
        "train_dataloader = DataLoader(train_dataset, batch_size=64, shuffle=True)\n",
        "val_dataloader = DataLoader(val_dataset, batch_size=64, shuffle=True)\n",
        "test_dataloader = DataLoader(test_dataset, batch_size=64, shuffle=True)"
      ],
      "metadata": {
        "id": "FqfTDVtsekMb"
      },
      "execution_count": 9,
      "outputs": []
    },
    {
      "cell_type": "code",
      "source": [
        "class MLP(nn.Module):\n",
        "  \n",
        "  def __init__(self):\n",
        "    super().__init__()\n",
        "    self.layers = nn.Sequential(\n",
        "\n",
        "### Fully-connected layer\n",
        "      nn.Flatten(),\n",
        "      nn.ReLU(),\n",
        "\n",
        "      nn.Linear(1690, 256),\n",
        "      nn.ReLU(),\n",
        "      nn.Dropout(p=0.3),\n",
        "\n",
        "      nn.Linear(256, 128),\n",
        "      nn.ReLU(),\n",
        "      nn.Dropout(p=0.3),\n",
        "\n",
        "      nn.Linear(128, 10),\n",
        "      nn.Softmax()\n",
        "    )\n",
        "\n",
        "\n",
        "  def forward(self, x):\n",
        "    '''Forward pass'''\n",
        "    return self.layers(x)"
      ],
      "metadata": {
        "id": "z-aToJU27Utr"
      },
      "execution_count": 23,
      "outputs": []
    },
    {
      "cell_type": "code",
      "source": [
        "def accuracy(out, labels):\n",
        "\n",
        "    _,pred = torch.max(out, dim=1)\n",
        "\n",
        "    return torch.sum(pred==labels).item()"
      ],
      "metadata": {
        "id": "-c7jpLNfWh13"
      },
      "execution_count": 11,
      "outputs": []
    },
    {
      "cell_type": "code",
      "source": [
        "class CyclicLR(_LRScheduler):\n",
        "    \n",
        "    def __init__(self, optimizer, schedule, last_epoch=-1):\n",
        "        assert callable(schedule)\n",
        "        self.schedule = schedule\n",
        "        super().__init__(optimizer, last_epoch)\n",
        "\n",
        "    def get_lr(self):\n",
        "        return [self.schedule(self.last_epoch, lr) for lr in self.base_lrs]"
      ],
      "metadata": {
        "id": "yDRkXWhnpTZz"
      },
      "execution_count": 12,
      "outputs": []
    },
    {
      "cell_type": "code",
      "source": [
        "def cosine(t_max, eta_min=0):\n",
        "    \n",
        "    def scheduler(epoch, base_lr):\n",
        "        t = epoch % t_max\n",
        "        return eta_min + (base_lr - eta_min)*(1 + np.cos(np.pi*t/t_max))/2\n",
        "    \n",
        "    return scheduler"
      ],
      "metadata": {
        "id": "QE4cNf1Sphqz"
      },
      "execution_count": 13,
      "outputs": []
    },
    {
      "cell_type": "code",
      "source": [
        "train_acc = []\n",
        "val_acc = []\n",
        "\n",
        "lr = 0.00001\n",
        "n_epochs = 800\n",
        "iterations_per_epoch = len(train_dataloader)\n",
        "best_acc = 0\n",
        "patience, trials = 50, 0\n",
        "\n",
        "model = MLP()\n",
        "model = model.to(device)\n",
        "criterion = nn.CrossEntropyLoss()\n",
        "opt = torch.optim.RMSprop(model.parameters(), lr=lr)\n",
        "sched = CyclicLR(opt, cosine(t_max=iterations_per_epoch * 2, eta_min=lr/100))\n",
        "\n",
        "print('Start model training')\n",
        "\n",
        "for epoch in range(1, n_epochs + 1):\n",
        "\n",
        "    \n",
        "    tcorrect, ttotal = 0, 0\n",
        "    for (x_batch, y_batch) in train_dataloader:\n",
        "        model.train()\n",
        "        x_batch = x_batch.unsqueeze(1)\n",
        "        x_batch, y_batch = [t.cuda() for t in (x_batch, y_batch)]\n",
        "        y_batch = y_batch.to(torch.int64)\n",
        "        sched.step()\n",
        "        opt.zero_grad()\n",
        "        out = model(x_batch)\n",
        "        loss = criterion(out, y_batch)\n",
        "        loss.backward()\n",
        "        opt.step()\n",
        "\n",
        "        _,pred = torch.max(out, dim=1)\n",
        "        ttotal += y_batch.size(0)\n",
        "        tcorrect += torch.sum(pred==y_batch).item()\n",
        "\n",
        "    train_acc.append(100 * tcorrect / ttotal)\n",
        "    \n",
        "    model.eval()\n",
        "    vcorrect, vtotal = 0, 0\n",
        "    for x_val, y_val in val_dataloader:\n",
        "        x_val = x_val.unsqueeze(1)\n",
        "        x_val, y_val = [t.cuda() for t in (x_val, y_val)]\n",
        "        out = model(x_val)\n",
        "        preds = F.log_softmax(out, dim=1).argmax(dim=1)\n",
        "        vtotal += y_val.size(0)\n",
        "        vcorrect += (preds == y_val).sum().item()\n",
        "    \n",
        "    vacc = vcorrect / vtotal\n",
        "    val_acc.append(vacc*100)\n",
        "\n",
        "    if epoch % 5 == 0:\n",
        "        print(f'Epoch: {epoch:3d}. Loss: {loss.item():.4f}. Val Acc.: {vacc:2.2%}')\n",
        "\n",
        "    if vacc > best_acc:\n",
        "        trials = 0\n",
        "        best_acc = vacc\n",
        "        torch.save(model, DATA_PATH+\"model\")\n",
        "        print(f'Epoch {epoch} best model saved with val accuracy: {best_acc:2.2%}')\n",
        "    else:\n",
        "        trials += 1\n",
        "        if trials >= patience:\n",
        "            print(f'Early stopping on epoch {epoch}')\n",
        "            break"
      ],
      "metadata": {
        "id": "gHEiCNcGoX7W",
        "colab": {
          "base_uri": "https://localhost:8080/"
        },
        "outputId": "eb95367a-70dc-4361-9b65-c9c058414ba5"
      },
      "execution_count": 24,
      "outputs": [
        {
          "output_type": "stream",
          "name": "stdout",
          "text": [
            "Start model training\n"
          ]
        },
        {
          "output_type": "stream",
          "name": "stderr",
          "text": [
            "/usr/local/lib/python3.7/dist-packages/torch/optim/lr_scheduler.py:134: UserWarning: Detected call of `lr_scheduler.step()` before `optimizer.step()`. In PyTorch 1.1.0 and later, you should call them in the opposite order: `optimizer.step()` before `lr_scheduler.step()`.  Failure to do this will result in PyTorch skipping the first value of the learning rate schedule. See more details at https://pytorch.org/docs/stable/optim.html#how-to-adjust-learning-rate\n",
            "  \"https://pytorch.org/docs/stable/optim.html#how-to-adjust-learning-rate\", UserWarning)\n",
            "/usr/local/lib/python3.7/dist-packages/torch/nn/modules/container.py:141: UserWarning: Implicit dimension choice for softmax has been deprecated. Change the call to include dim=X as an argument.\n",
            "  input = module(input)\n"
          ]
        },
        {
          "output_type": "stream",
          "name": "stdout",
          "text": [
            "Epoch 1 best model saved with val accuracy: 18.00%\n",
            "Epoch 2 best model saved with val accuracy: 20.00%\n",
            "Epoch 3 best model saved with val accuracy: 23.20%\n",
            "Epoch 4 best model saved with val accuracy: 23.70%\n",
            "Epoch:   5. Loss: 2.2623. Val Acc.: 28.20%\n",
            "Epoch 5 best model saved with val accuracy: 28.20%\n",
            "Epoch 7 best model saved with val accuracy: 28.40%\n",
            "Epoch 8 best model saved with val accuracy: 29.00%\n",
            "Epoch 9 best model saved with val accuracy: 29.80%\n",
            "Epoch:  10. Loss: 2.1389. Val Acc.: 30.20%\n",
            "Epoch 10 best model saved with val accuracy: 30.20%\n",
            "Epoch 11 best model saved with val accuracy: 33.40%\n",
            "Epoch 13 best model saved with val accuracy: 34.70%\n",
            "Epoch 14 best model saved with val accuracy: 35.10%\n",
            "Epoch:  15. Loss: 2.2379. Val Acc.: 35.40%\n",
            "Epoch 15 best model saved with val accuracy: 35.40%\n",
            "Epoch 16 best model saved with val accuracy: 35.60%\n",
            "Epoch 17 best model saved with val accuracy: 36.90%\n",
            "Epoch 19 best model saved with val accuracy: 37.50%\n",
            "Epoch:  20. Loss: 2.0755. Val Acc.: 38.00%\n",
            "Epoch 20 best model saved with val accuracy: 38.00%\n",
            "Epoch 23 best model saved with val accuracy: 38.40%\n",
            "Epoch:  25. Loss: 2.0997. Val Acc.: 38.20%\n",
            "Epoch 28 best model saved with val accuracy: 38.60%\n",
            "Epoch:  30. Loss: 2.1710. Val Acc.: 38.00%\n",
            "Epoch 33 best model saved with val accuracy: 38.70%\n",
            "Epoch:  35. Loss: 2.0651. Val Acc.: 38.60%\n",
            "Epoch 37 best model saved with val accuracy: 39.00%\n",
            "Epoch 39 best model saved with val accuracy: 39.10%\n",
            "Epoch:  40. Loss: 2.1997. Val Acc.: 38.80%\n",
            "Epoch 43 best model saved with val accuracy: 39.40%\n",
            "Epoch 44 best model saved with val accuracy: 39.50%\n",
            "Epoch:  45. Loss: 2.0204. Val Acc.: 39.50%\n",
            "Epoch 49 best model saved with val accuracy: 40.00%\n",
            "Epoch:  50. Loss: 2.0044. Val Acc.: 40.70%\n",
            "Epoch 50 best model saved with val accuracy: 40.70%\n",
            "Epoch:  55. Loss: 2.1337. Val Acc.: 40.00%\n",
            "Epoch:  60. Loss: 2.0204. Val Acc.: 40.70%\n",
            "Epoch 62 best model saved with val accuracy: 40.90%\n",
            "Epoch 64 best model saved with val accuracy: 41.00%\n",
            "Epoch:  65. Loss: 2.0865. Val Acc.: 41.00%\n",
            "Epoch 66 best model saved with val accuracy: 41.40%\n",
            "Epoch 68 best model saved with val accuracy: 42.10%\n",
            "Epoch:  70. Loss: 1.9461. Val Acc.: 41.20%\n",
            "Epoch:  75. Loss: 2.0052. Val Acc.: 41.40%\n",
            "Epoch:  80. Loss: 2.0863. Val Acc.: 41.70%\n",
            "Epoch 84 best model saved with val accuracy: 42.20%\n",
            "Epoch:  85. Loss: 1.9748. Val Acc.: 41.90%\n",
            "Epoch 87 best model saved with val accuracy: 42.80%\n",
            "Epoch 89 best model saved with val accuracy: 43.20%\n",
            "Epoch:  90. Loss: 1.9591. Val Acc.: 42.80%\n",
            "Epoch:  95. Loss: 2.0455. Val Acc.: 42.50%\n",
            "Epoch: 100. Loss: 2.0046. Val Acc.: 42.40%\n",
            "Epoch: 105. Loss: 1.9310. Val Acc.: 43.10%\n",
            "Epoch 108 best model saved with val accuracy: 43.30%\n",
            "Epoch: 110. Loss: 2.0303. Val Acc.: 42.80%\n",
            "Epoch: 115. Loss: 2.0019. Val Acc.: 42.50%\n",
            "Epoch 118 best model saved with val accuracy: 43.40%\n",
            "Epoch 119 best model saved with val accuracy: 43.50%\n",
            "Epoch: 120. Loss: 1.9518. Val Acc.: 42.80%\n",
            "Epoch: 125. Loss: 1.9239. Val Acc.: 42.90%\n",
            "Epoch: 130. Loss: 1.9261. Val Acc.: 43.40%\n",
            "Epoch 134 best model saved with val accuracy: 43.60%\n",
            "Epoch: 135. Loss: 1.8927. Val Acc.: 43.20%\n",
            "Epoch 137 best model saved with val accuracy: 43.90%\n",
            "Epoch: 140. Loss: 1.9671. Val Acc.: 43.70%\n",
            "Epoch: 145. Loss: 1.9815. Val Acc.: 43.70%\n",
            "Epoch 149 best model saved with val accuracy: 44.30%\n",
            "Epoch: 150. Loss: 1.9549. Val Acc.: 44.30%\n",
            "Epoch: 155. Loss: 1.9566. Val Acc.: 43.90%\n",
            "Epoch: 160. Loss: 1.9228. Val Acc.: 43.90%\n",
            "Epoch 162 best model saved with val accuracy: 44.80%\n",
            "Epoch: 165. Loss: 1.9267. Val Acc.: 44.80%\n",
            "Epoch 167 best model saved with val accuracy: 45.00%\n",
            "Epoch: 170. Loss: 2.0049. Val Acc.: 45.30%\n",
            "Epoch 170 best model saved with val accuracy: 45.30%\n",
            "Epoch: 175. Loss: 1.9469. Val Acc.: 45.20%\n",
            "Epoch 176 best model saved with val accuracy: 45.60%\n",
            "Epoch: 180. Loss: 1.8846. Val Acc.: 45.50%\n",
            "Epoch 181 best model saved with val accuracy: 45.90%\n",
            "Epoch: 185. Loss: 1.8915. Val Acc.: 45.90%\n",
            "Epoch 186 best model saved with val accuracy: 46.10%\n",
            "Epoch: 190. Loss: 1.9659. Val Acc.: 45.80%\n",
            "Epoch: 195. Loss: 1.9504. Val Acc.: 45.70%\n",
            "Epoch 196 best model saved with val accuracy: 46.30%\n",
            "Epoch: 200. Loss: 1.9263. Val Acc.: 46.10%\n",
            "Epoch: 205. Loss: 1.9590. Val Acc.: 45.70%\n",
            "Epoch 206 best model saved with val accuracy: 46.40%\n",
            "Epoch: 210. Loss: 1.8542. Val Acc.: 46.10%\n",
            "Epoch: 215. Loss: 1.8718. Val Acc.: 45.70%\n",
            "Epoch 216 best model saved with val accuracy: 46.50%\n",
            "Epoch: 220. Loss: 1.9284. Val Acc.: 46.30%\n",
            "Epoch: 225. Loss: 1.8974. Val Acc.: 46.60%\n",
            "Epoch 225 best model saved with val accuracy: 46.60%\n",
            "Epoch: 230. Loss: 1.9415. Val Acc.: 46.60%\n",
            "Epoch 233 best model saved with val accuracy: 47.20%\n",
            "Epoch: 235. Loss: 1.9709. Val Acc.: 46.60%\n",
            "Epoch 237 best model saved with val accuracy: 47.30%\n",
            "Epoch: 240. Loss: 1.9412. Val Acc.: 47.20%\n",
            "Epoch: 245. Loss: 1.8737. Val Acc.: 46.70%\n",
            "Epoch: 250. Loss: 1.8801. Val Acc.: 46.40%\n",
            "Epoch: 255. Loss: 1.9802. Val Acc.: 47.30%\n",
            "Epoch 257 best model saved with val accuracy: 47.90%\n",
            "Epoch: 260. Loss: 1.9375. Val Acc.: 47.30%\n",
            "Epoch: 265. Loss: 1.8788. Val Acc.: 47.20%\n",
            "Epoch: 270. Loss: 1.8590. Val Acc.: 47.30%\n",
            "Epoch 274 best model saved with val accuracy: 48.10%\n",
            "Epoch: 275. Loss: 1.7389. Val Acc.: 48.00%\n",
            "Epoch: 280. Loss: 1.9210. Val Acc.: 47.30%\n",
            "Epoch: 285. Loss: 1.8998. Val Acc.: 47.80%\n",
            "Epoch: 290. Loss: 1.8405. Val Acc.: 47.80%\n",
            "Epoch 292 best model saved with val accuracy: 48.20%\n",
            "Epoch: 295. Loss: 1.7757. Val Acc.: 47.80%\n",
            "Epoch: 300. Loss: 1.8321. Val Acc.: 47.70%\n",
            "Epoch 302 best model saved with val accuracy: 48.30%\n",
            "Epoch 303 best model saved with val accuracy: 48.80%\n",
            "Epoch: 305. Loss: 1.9218. Val Acc.: 48.50%\n",
            "Epoch 306 best model saved with val accuracy: 48.90%\n",
            "Epoch: 310. Loss: 1.9485. Val Acc.: 48.70%\n",
            "Epoch: 315. Loss: 1.9034. Val Acc.: 48.70%\n",
            "Epoch: 320. Loss: 1.8742. Val Acc.: 48.60%\n",
            "Epoch: 325. Loss: 1.8655. Val Acc.: 48.30%\n",
            "Epoch: 330. Loss: 1.7787. Val Acc.: 48.40%\n",
            "Epoch: 335. Loss: 1.7941. Val Acc.: 49.00%\n",
            "Epoch 335 best model saved with val accuracy: 49.00%\n",
            "Epoch: 340. Loss: 1.8376. Val Acc.: 48.90%\n",
            "Epoch: 345. Loss: 1.8539. Val Acc.: 48.20%\n",
            "Epoch: 350. Loss: 1.7098. Val Acc.: 49.00%\n",
            "Epoch: 355. Loss: 1.8655. Val Acc.: 48.90%\n",
            "Epoch: 360. Loss: 1.7558. Val Acc.: 48.60%\n",
            "Epoch 364 best model saved with val accuracy: 49.20%\n",
            "Epoch: 365. Loss: 1.7466. Val Acc.: 48.90%\n",
            "Epoch: 370. Loss: 1.8512. Val Acc.: 49.10%\n",
            "Epoch: 375. Loss: 1.8202. Val Acc.: 48.80%\n",
            "Epoch 377 best model saved with val accuracy: 49.30%\n",
            "Epoch: 380. Loss: 1.9468. Val Acc.: 48.30%\n",
            "Epoch: 385. Loss: 1.8838. Val Acc.: 48.50%\n",
            "Epoch: 390. Loss: 1.8176. Val Acc.: 48.70%\n",
            "Epoch: 395. Loss: 1.8450. Val Acc.: 48.90%\n",
            "Epoch: 400. Loss: 1.8037. Val Acc.: 48.60%\n",
            "Epoch: 405. Loss: 1.8307. Val Acc.: 49.30%\n",
            "Epoch: 410. Loss: 1.8245. Val Acc.: 49.10%\n",
            "Epoch 411 best model saved with val accuracy: 49.50%\n",
            "Epoch: 415. Loss: 1.7809. Val Acc.: 48.90%\n",
            "Epoch 419 best model saved with val accuracy: 49.80%\n",
            "Epoch: 420. Loss: 1.8448. Val Acc.: 50.20%\n",
            "Epoch 420 best model saved with val accuracy: 50.20%\n",
            "Epoch: 425. Loss: 1.7837. Val Acc.: 49.50%\n",
            "Epoch: 430. Loss: 1.8572. Val Acc.: 49.90%\n",
            "Epoch: 435. Loss: 1.7699. Val Acc.: 50.10%\n",
            "Epoch 436 best model saved with val accuracy: 50.30%\n",
            "Epoch: 440. Loss: 1.7401. Val Acc.: 50.10%\n",
            "Epoch: 445. Loss: 1.8200. Val Acc.: 50.40%\n",
            "Epoch 445 best model saved with val accuracy: 50.40%\n",
            "Epoch 447 best model saved with val accuracy: 50.80%\n",
            "Epoch: 450. Loss: 1.7490. Val Acc.: 50.10%\n",
            "Epoch: 455. Loss: 1.7535. Val Acc.: 50.70%\n",
            "Epoch: 460. Loss: 1.7515. Val Acc.: 50.70%\n",
            "Epoch: 465. Loss: 1.8041. Val Acc.: 50.70%\n",
            "Epoch 466 best model saved with val accuracy: 50.90%\n",
            "Epoch: 470. Loss: 1.7050. Val Acc.: 49.90%\n",
            "Epoch 471 best model saved with val accuracy: 51.10%\n",
            "Epoch: 475. Loss: 1.6996. Val Acc.: 50.40%\n",
            "Epoch: 480. Loss: 1.8348. Val Acc.: 51.20%\n",
            "Epoch 480 best model saved with val accuracy: 51.20%\n",
            "Epoch: 485. Loss: 1.7192. Val Acc.: 50.50%\n",
            "Epoch: 490. Loss: 1.7847. Val Acc.: 51.40%\n",
            "Epoch 490 best model saved with val accuracy: 51.40%\n",
            "Epoch: 495. Loss: 1.7867. Val Acc.: 50.90%\n",
            "Epoch 496 best model saved with val accuracy: 51.50%\n",
            "Epoch 497 best model saved with val accuracy: 51.90%\n",
            "Epoch: 500. Loss: 1.6868. Val Acc.: 51.40%\n",
            "Epoch: 505. Loss: 1.8373. Val Acc.: 51.10%\n",
            "Epoch: 510. Loss: 1.8269. Val Acc.: 52.20%\n",
            "Epoch 510 best model saved with val accuracy: 52.20%\n",
            "Epoch: 515. Loss: 1.7600. Val Acc.: 51.40%\n",
            "Epoch: 520. Loss: 1.7775. Val Acc.: 51.70%\n",
            "Epoch: 525. Loss: 1.6809. Val Acc.: 52.40%\n",
            "Epoch 525 best model saved with val accuracy: 52.40%\n",
            "Epoch: 530. Loss: 1.6948. Val Acc.: 51.80%\n",
            "Epoch 534 best model saved with val accuracy: 52.50%\n",
            "Epoch: 535. Loss: 1.8688. Val Acc.: 51.80%\n",
            "Epoch 537 best model saved with val accuracy: 52.70%\n",
            "Epoch: 540. Loss: 1.6598. Val Acc.: 52.00%\n",
            "Epoch: 545. Loss: 1.7390. Val Acc.: 51.40%\n",
            "Epoch: 550. Loss: 1.7870. Val Acc.: 51.70%\n",
            "Epoch: 555. Loss: 1.7574. Val Acc.: 51.60%\n",
            "Epoch: 560. Loss: 1.7789. Val Acc.: 52.20%\n",
            "Epoch: 565. Loss: 1.6919. Val Acc.: 51.70%\n",
            "Epoch: 570. Loss: 1.7192. Val Acc.: 52.30%\n",
            "Epoch: 575. Loss: 1.7214. Val Acc.: 51.70%\n",
            "Epoch 577 best model saved with val accuracy: 52.90%\n",
            "Epoch: 580. Loss: 1.6664. Val Acc.: 51.90%\n",
            "Epoch: 585. Loss: 1.7112. Val Acc.: 52.00%\n",
            "Epoch: 590. Loss: 1.7030. Val Acc.: 53.00%\n",
            "Epoch 590 best model saved with val accuracy: 53.00%\n",
            "Epoch: 595. Loss: 1.7022. Val Acc.: 51.60%\n",
            "Epoch: 600. Loss: 1.6909. Val Acc.: 52.10%\n",
            "Epoch 604 best model saved with val accuracy: 53.10%\n",
            "Epoch: 605. Loss: 1.6187. Val Acc.: 53.00%\n",
            "Epoch: 610. Loss: 1.6867. Val Acc.: 52.60%\n",
            "Epoch 613 best model saved with val accuracy: 53.20%\n",
            "Epoch: 615. Loss: 1.8962. Val Acc.: 53.00%\n",
            "Epoch 619 best model saved with val accuracy: 53.70%\n",
            "Epoch: 620. Loss: 1.6514. Val Acc.: 53.20%\n",
            "Epoch: 625. Loss: 1.7330. Val Acc.: 52.40%\n",
            "Epoch: 630. Loss: 1.6868. Val Acc.: 52.90%\n",
            "Epoch: 635. Loss: 1.6421. Val Acc.: 52.40%\n",
            "Epoch: 640. Loss: 1.7212. Val Acc.: 52.80%\n",
            "Epoch: 645. Loss: 1.5844. Val Acc.: 52.70%\n",
            "Epoch: 650. Loss: 1.6762. Val Acc.: 52.30%\n",
            "Epoch: 655. Loss: 1.6609. Val Acc.: 53.00%\n",
            "Epoch: 660. Loss: 1.6109. Val Acc.: 52.50%\n",
            "Epoch: 665. Loss: 1.6704. Val Acc.: 52.80%\n",
            "Early stopping on epoch 669\n"
          ]
        }
      ]
    },
    {
      "cell_type": "code",
      "source": [
        "import matplotlib.pyplot as plt\n",
        "\n",
        "fig = plt.figure(figsize=(20,10))\n",
        "\n",
        "plt.title(\"Train-Validation Accuracy\")\n",
        "\n",
        "plt.plot(train_acc, label='train')\n",
        "\n",
        "plt.plot(val_acc, label='validation')\n",
        "\n",
        "plt.xlabel('num_epochs', fontsize=12)\n",
        "\n",
        "plt.ylabel('accuracy', fontsize=12)\n",
        "\n",
        "plt.ylim((0,100))\n",
        "#plt.xlim((0,n_epochs))\n",
        "\n",
        "plt.legend(loc='best')"
      ],
      "metadata": {
        "id": "mnyDpY1LXrnI",
        "colab": {
          "base_uri": "https://localhost:8080/",
          "height": 559
        },
        "outputId": "e7434e77-9c13-4281-a172-df6a01b3b26d"
      },
      "execution_count": 25,
      "outputs": [
        {
          "output_type": "execute_result",
          "data": {
            "text/plain": [
              "<matplotlib.legend.Legend at 0x7f9d61306210>"
            ]
          },
          "metadata": {},
          "execution_count": 25
        },
        {
          "output_type": "display_data",
          "data": {
            "image/png": "[encoded data removed]",
            "text/plain": [
              "<Figure size 1440x720 with 1 Axes>"
            ]
          },
          "metadata": {
            "needs_background": "light"
          }
        }
      ]
    },
    {
      "cell_type": "code",
      "source": [
        "#Evaluate on test dataset\n",
        "\n",
        "torch.no_grad()\n",
        "count = 0\n",
        "correct = 0\n",
        "\n",
        "true = []\n",
        "preds = []\n",
        "\n",
        "model=model.to(device)\n",
        "\n",
        "for X_testbatch, y_testbatch in test_dataloader:\n",
        "    X_testbatch = X_testbatch.unsqueeze(1).to(device)\n",
        "    y_testbatch = y_testbatch.to(device)\n",
        "\n",
        "    y_val = model(X_testbatch)\n",
        "        \n",
        "    predicted = torch.max(y_val,1)[1]\n",
        "    \n",
        "    count+= y_testbatch.size(dim=0)\n",
        "    correct += (predicted == y_testbatch).sum()\n",
        "\n",
        "    true.append(y_testbatch)\n",
        "    preds.append(predicted)\n",
        "\n",
        "ground_truth = torch.cat(true)\n",
        "predicted_genres = torch.cat(preds)\n",
        "print(f'Test accuracy: {correct.item()}/{count} = {correct.item()*100/(count):7.2f}%')"
      ],
      "metadata": {
        "id": "K74OWyTzxgRM",
        "outputId": "400187c8-7464-4d24-8beb-eb4124183cbb",
        "colab": {
          "base_uri": "https://localhost:8080/"
        }
      },
      "execution_count": 26,
      "outputs": [
        {
          "output_type": "stream",
          "name": "stdout",
          "text": [
            "Test accuracy: 571/1000 =   57.10%\n"
          ]
        },
        {
          "output_type": "stream",
          "name": "stderr",
          "text": [
            "/usr/local/lib/python3.7/dist-packages/torch/nn/modules/container.py:141: UserWarning: Implicit dimension choice for softmax has been deprecated. Change the call to include dim=X as an argument.\n",
            "  input = module(input)\n"
          ]
        }
      ]
    },
    {
      "cell_type": "code",
      "source": [
        "from sklearn.metrics import confusion_matrix\n",
        "import pandas as pd\n",
        "import seaborn as sns\n",
        "\n",
        "# Display the confusion matrix as a heatmap\n",
        "arr = confusion_matrix(ground_truth.view(-1).detach().cpu().numpy(), predicted_genres.view(-1).detach().cpu().numpy())\n",
        "class_names = ['pop', 'classical', 'jazz', 'hiphop', 'reggae', 'disco', ' metal', 'country', 'blues', 'rock']\n",
        "df_cm = pd.DataFrame(arr, class_names, class_names)\n",
        "plt.figure(figsize = (10,7))\n",
        "sns.heatmap(df_cm, annot=True, fmt=\"d\", cmap='BuGn')\n",
        "plt.xlabel(\"prediction\")\n",
        "plt.ylabel(\"ground truth\")\n",
        "plt.title('Confusion Matrix', fontsize=15)\n",
        "plt.show() \n"
      ],
      "metadata": {
        "id": "qmFtTl5exZV5",
        "outputId": "9b52570e-2481-4c78-8d72-14d1e1ebfcb5",
        "colab": {
          "base_uri": "https://localhost:8080/",
          "height": 460
        }
      },
      "execution_count": 27,
      "outputs": [
        {
          "output_type": "display_data",
          "data": {
            "image/png": "[encoded data removed]",
            "text/plain": [
              "<Figure size 720x504 with 2 Axes>"
            ]
          },
          "metadata": {
            "needs_background": "light"
          }
        }
      ]
    }
  ]
}
