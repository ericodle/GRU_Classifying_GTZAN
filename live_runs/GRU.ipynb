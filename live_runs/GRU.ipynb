{
  "nbformat": 4,
  "nbformat_minor": 0,
  "metadata": {
    "colab": {
      "name": "GRU_model.ipynb",
      "provenance": [],
      "collapsed_sections": [],
      "mount_file_id": "1tcwOaE0R1gZj3R3yt9D14_tY6u1Mpnqy",
      "authorship_tag": "ABX9TyMFPqRgjkrvjtkwWh6lUlC2",
      "include_colab_link": true
    },
    "kernelspec": {
      "name": "python3",
      "display_name": "Python 3"
    },
    "language_info": {
      "name": "python"
    },
    "accelerator": "GPU"
  },
  "cells": [
    {
      "cell_type": "markdown",
      "metadata": {
        "id": "view-in-github",
        "colab_type": "text"
      },
      "source": [
        "<a href=\"https://colab.research.google.com/github/ericodle/Genre-Classification-Using-LSTM/blob/main/GRU_model.ipynb\" target=\"_parent\"><img src=\"https://colab.research.google.com/assets/colab-badge.svg\" alt=\"Open In Colab\"/></a>"
      ]
    },
    {
      "cell_type": "code",
      "execution_count": 43,
      "metadata": {
        "colab": {
          "base_uri": "https://localhost:8080/"
        },
        "id": "nlbr7kiwdJ2x",
        "outputId": "d208af7e-5b7a-4e93-f722-86445f9308d7"
      },
      "outputs": [
        {
          "output_type": "stream",
          "name": "stdout",
          "text": [
            "Drive already mounted at /content/drive; to attempt to forcibly remount, call drive.mount(\"/content/drive\", force_remount=True).\n"
          ]
        }
      ],
      "source": [
        "from google.colab import drive\n",
        "drive.mount('/content/drive')"
      ]
    },
    {
      "cell_type": "code",
      "source": [
        "import json\n",
        "import numpy as np\n",
        "from sklearn.model_selection import train_test_split\n",
        "import os\n",
        "import torch\n",
        "from torch import nn\n",
        "from torch.utils.data import DataLoader\n",
        "from torchvision import transforms\n",
        "import torch.optim as optim\n",
        "from torch.optim.lr_scheduler import _LRScheduler\n",
        "from torch.nn import functional as F"
      ],
      "metadata": {
        "id": "61zO5hBoQ45H"
      },
      "execution_count": 44,
      "outputs": []
    },
    {
      "cell_type": "code",
      "source": [
        "# Ensure that all operations are deterministic on GPU (if used) for reproducibility\n",
        "torch.backends.cudnn.determinstic = True\n",
        "torch.backends.cudnn.benchmark = False\n",
        "\n",
        "# Fetching the device that will be used throughout this notebook\n",
        "device = torch.device(\"cpu\") if not torch.cuda.is_available() else torch.device(\"cuda:0\")\n",
        "print(\"Using device\", device)"
      ],
      "metadata": {
        "colab": {
          "base_uri": "https://localhost:8080/"
        },
        "id": "4Rxa_LeEIH5h",
        "outputId": "6257178e-9f27-4bcb-a319-337b63e3c678"
      },
      "execution_count": 45,
      "outputs": [
        {
          "output_type": "stream",
          "name": "stdout",
          "text": [
            "Using device cuda:0\n"
          ]
        }
      ]
    },
    {
      "cell_type": "code",
      "source": [
        "# path to json file that stores MFCCs and genre labels for each processed segment\n",
        "DATA_PATH = \"/content/drive/MyDrive/\"\n",
        "FILENAME = \"data_10.json\""
      ],
      "metadata": {
        "id": "Kl3YnRykRKx5"
      },
      "execution_count": 46,
      "outputs": []
    },
    {
      "cell_type": "code",
      "source": [
        "def load_data(data_path):\n",
        "    \"\"\"Loads training dataset from json file.\n",
        "        :param data_path (str): Path to json file containing data\n",
        "        :return X (ndarray): Inputs\n",
        "        :return y (ndarray): Targets\n",
        "    \"\"\"\n",
        "\n",
        "    with open(data_path, \"r\") as fp:\n",
        "        data = json.load(fp)\n",
        "\n",
        "    # convert lists to numpy arrays\n",
        "    X = np.array(data[\"mfcc\"])\n",
        "    y = np.array(data[\"labels\"])\n",
        "\n",
        "    print(\"Data succesfully loaded!\")\n",
        "\n",
        "    return  X, y"
      ],
      "metadata": {
        "id": "06G05AWGRKJx"
      },
      "execution_count": 47,
      "outputs": []
    },
    {
      "cell_type": "code",
      "source": [
        "def train_val_test_split(X, y, test_ratio):\n",
        "    val_ratio = test_ratio / (1 - test_ratio)\n",
        "    X_train, X_test, y_train, y_test = train_test_split(X, y, test_size=test_ratio, shuffle=True)\n",
        "    X_train, X_val, y_train, y_val = train_test_split(X_train, y_train, test_size=val_ratio, shuffle=True)\n",
        "    return X_train, X_val, X_test, y_train, y_val, y_test"
      ],
      "metadata": {
        "id": "1QGkW14erYuJ"
      },
      "execution_count": 48,
      "outputs": []
    },
    {
      "cell_type": "code",
      "source": [
        "# load data\n",
        "X, y = load_data(DATA_PATH+FILENAME)\n",
        "\n",
        "# create train/test split\n",
        "X_train, X_val, X_test, y_train, y_val, y_test = train_val_test_split(X, y, 0.1)"
      ],
      "metadata": {
        "colab": {
          "base_uri": "https://localhost:8080/"
        },
        "id": "qkxPkDbySnSb",
        "outputId": "350e8f83-791e-4b83-ffb2-bfc6104339d1"
      },
      "execution_count": 50,
      "outputs": [
        {
          "output_type": "stream",
          "name": "stdout",
          "text": [
            "Data succesfully loaded!\n"
          ]
        }
      ]
    },
    {
      "cell_type": "code",
      "source": [
        "print(\"train, val, test mfccs\")\n",
        "print(X_train.shape)\n",
        "print(X_val.shape)\n",
        "print(X_test.shape)\n",
        "print(\"train, val, test targets(labels)\")\n",
        "print(y_train.shape)\n",
        "print(y_val.shape)\n",
        "print(y_test.shape)"
      ],
      "metadata": {
        "id": "iVHAzJU-x-0E",
        "outputId": "c3c84c1f-f3ca-4295-f469-5148345077f9",
        "colab": {
          "base_uri": "https://localhost:8080/"
        }
      },
      "execution_count": 51,
      "outputs": [
        {
          "output_type": "stream",
          "name": "stdout",
          "text": [
            "train, val, test mfccs\n",
            "(7996, 130, 13)\n",
            "(1000, 130, 13)\n",
            "(1000, 130, 13)\n",
            "train, val, test targets(labels)\n",
            "(7996,)\n",
            "(1000,)\n",
            "(1000,)\n"
          ]
        }
      ]
    },
    {
      "cell_type": "code",
      "source": [
        "from torch.utils.data import TensorDataset, DataLoader\n",
        "\n",
        "tensor_X_train = torch.Tensor(X_train)\n",
        "tensor_X_val = torch.Tensor(X_val)\n",
        "tensor_y_train = torch.Tensor(y_train)\n",
        "tensor_y_val = torch.Tensor(y_val)\n",
        "tensor_X_test = torch.Tensor(X_test)\n",
        "tensor_y_test = torch.Tensor(y_test)\n",
        "\n",
        "train_dataset = TensorDataset(tensor_X_train,tensor_y_train)\n",
        "val_dataset = TensorDataset(tensor_X_val,tensor_y_val)\n",
        "test_dataset = TensorDataset(tensor_X_test,tensor_y_test)\n",
        "\n",
        "train_dataloader = DataLoader(train_dataset, batch_size=64, shuffle=True)\n",
        "val_dataloader = DataLoader(val_dataset, batch_size=64, shuffle=True)\n",
        "test_dataloader = DataLoader(test_dataset, batch_size=64, shuffle=True)"
      ],
      "metadata": {
        "id": "FqfTDVtsekMb"
      },
      "execution_count": 52,
      "outputs": []
    },
    {
      "cell_type": "code",
      "source": [
        "class GRUModel(nn.Module):\n",
        "    \"\"\"GRUModel class extends nn.Module class and works as a constructor for GRUs.\n",
        "\n",
        "       GRUModel class initiates a GRU module based on PyTorch's nn.Module class.\n",
        "       It has only two methods, namely init() and forward(). While the init()\n",
        "       method initiates the model with the given input parameters, the forward()\n",
        "       method defines how the forward propagation needs to be calculated.\n",
        "       Since PyTorch automatically defines back propagation, there is no need\n",
        "       to define back propagation method.\n",
        "\n",
        "       Attributes:\n",
        "           hidden_dim (int): The number of nodes in each layer\n",
        "           layer_dim (str): The number of layers in the network\n",
        "           gru (nn.GRU): The GRU model constructed with the input parameters.\n",
        "           fc (nn.Linear): The fully connected layer to convert the final state\n",
        "                           of GRUs to our desired output shape.\n",
        "\n",
        "    \"\"\"\n",
        "    def __init__(self, input_dim, hidden_dim, layer_dim, output_dim, dropout_prob):\n",
        "        \"\"\"The __init__ method that initiates a GRU instance.\n",
        "\n",
        "        Args:\n",
        "            input_dim (int): The number of nodes in the input layer\n",
        "            hidden_dim (int): The number of nodes in each layer\n",
        "            layer_dim (int): The number of layers in the network\n",
        "            output_dim (int): The number of nodes in the output layer\n",
        "            dropout_prob (float): The probability of nodes being dropped out\n",
        "\n",
        "        \"\"\"\n",
        "        super(GRUModel, self).__init__()\n",
        "\n",
        "        # Defining the number of layers and the nodes in each layer\n",
        "        self.layer_dim = layer_dim\n",
        "        self.hidden_dim = hidden_dim\n",
        "\n",
        "        # GRU layers\n",
        "        self.gru = nn.GRU(\n",
        "            input_dim, hidden_dim, layer_dim, batch_first=True, dropout=dropout_prob\n",
        "        )\n",
        "\n",
        "        # Fully connected layer\n",
        "        self.fc = nn.Linear(hidden_dim, output_dim)\n",
        "\n",
        "    def forward(self, x):\n",
        "        \"\"\"The forward method takes input tensor x and does forward propagation\n",
        "\n",
        "        Args:\n",
        "            x (torch.Tensor): The input tensor of the shape (batch size, sequence length, input_dim)\n",
        "\n",
        "        Returns:\n",
        "            torch.Tensor: The output tensor of the shape (batch size, output_dim)\n",
        "\n",
        "        \"\"\"\n",
        "        # Initializing hidden state for first input with zeros\n",
        "        h0 = torch.zeros(self.layer_dim, x.size(0), self.hidden_dim).requires_grad_()\n",
        "        # Forward propagation by passing in the input and hidden state into the model\n",
        "        out, _ = self.gru(x, h0.to(device))\n",
        "\n",
        "        # Reshaping the outputs in the shape of (batch_size, seq_length, hidden_size)\n",
        "        # so that it can fit into the fully connected layer\n",
        "        out = out[:, -1, :]\n",
        "\n",
        "        # Convert the final state to our desired output shape (batch_size, output_dim)\n",
        "        out = self.fc(out)\n",
        "\n",
        "        return out"
      ],
      "metadata": {
        "id": "z-aToJU27Utr"
      },
      "execution_count": 53,
      "outputs": []
    },
    {
      "cell_type": "code",
      "source": [
        "def accuracy(out, labels):\n",
        "\n",
        "    _,pred = torch.max(out, dim=1)\n",
        "\n",
        "    return torch.sum(pred==labels).item()"
      ],
      "metadata": {
        "id": "-c7jpLNfWh13"
      },
      "execution_count": 54,
      "outputs": []
    },
    {
      "cell_type": "code",
      "source": [
        "class CyclicLR(_LRScheduler):\n",
        "    \n",
        "    def __init__(self, optimizer, schedule, last_epoch=-1):\n",
        "        assert callable(schedule)\n",
        "        self.schedule = schedule\n",
        "        super().__init__(optimizer, last_epoch)\n",
        "\n",
        "    def get_lr(self):\n",
        "        return [self.schedule(self.last_epoch, lr) for lr in self.base_lrs]"
      ],
      "metadata": {
        "id": "yDRkXWhnpTZz"
      },
      "execution_count": 55,
      "outputs": []
    },
    {
      "cell_type": "code",
      "source": [
        "def cosine(t_max, eta_min=0):\n",
        "    \n",
        "    def scheduler(epoch, base_lr):\n",
        "        t = epoch % t_max\n",
        "        return eta_min + (base_lr - eta_min)*(1 + np.cos(np.pi*t/t_max))/2\n",
        "    \n",
        "    return scheduler"
      ],
      "metadata": {
        "id": "QE4cNf1Sphqz"
      },
      "execution_count": 56,
      "outputs": []
    },
    {
      "cell_type": "code",
      "source": [
        "input_dim = 13    \n",
        "hidden_dim = 256\n",
        "layer_dim = 2\n",
        "output_dim = 10\n",
        "seq_dim = 130\n",
        "dropout_prob = 0.2\n",
        "\n",
        "train_acc = []\n",
        "val_acc = []\n",
        "\n",
        "lr = 0.001\n",
        "n_epochs = 200\n",
        "iterations_per_epoch = len(train_dataloader)\n",
        "best_acc = 0\n",
        "patience, trials = 20, 0\n",
        "\n",
        "model = GRUModel(input_dim, hidden_dim, layer_dim, output_dim, dropout_prob)\n",
        "model = model.to(device)\n",
        "criterion = nn.CrossEntropyLoss()\n",
        "opt = torch.optim.RMSprop(model.parameters(), lr=lr)\n",
        "sched = CyclicLR(opt, cosine(t_max=iterations_per_epoch * 2, eta_min=lr/100))\n",
        "\n",
        "print('Start model training')\n",
        "\n",
        "for epoch in range(1, n_epochs + 1):\n",
        "\n",
        "    \n",
        "    tcorrect, ttotal = 0, 0\n",
        "    for (x_batch, y_batch) in train_dataloader:\n",
        "        model.train()\n",
        "        x_batch, y_batch = [t.cuda() for t in (x_batch, y_batch)]\n",
        "        y_batch = y_batch.to(torch.int64)\n",
        "        sched.step()\n",
        "        opt.zero_grad()\n",
        "        out = model(x_batch)\n",
        "        loss = criterion(out, y_batch)\n",
        "        loss.backward()\n",
        "        opt.step()\n",
        "\n",
        "        _,pred = torch.max(out, dim=1)\n",
        "        ttotal += y_batch.size(0)\n",
        "        tcorrect += torch.sum(pred==y_batch).item()\n",
        "\n",
        "    train_acc.append(100 * tcorrect / ttotal)\n",
        "    \n",
        "    model.eval()\n",
        "    vcorrect, vtotal = 0, 0\n",
        "    for x_val, y_val in val_dataloader:\n",
        "        x_val, y_val = [t.cuda() for t in (x_val, y_val)]\n",
        "        out = model(x_val)\n",
        "        preds = F.log_softmax(out, dim=1).argmax(dim=1)\n",
        "        vtotal += y_val.size(0)\n",
        "        vcorrect += (preds == y_val).sum().item()\n",
        "    \n",
        "    vacc = vcorrect / vtotal\n",
        "    val_acc.append(vacc*100)\n",
        "\n",
        "    if epoch % 5 == 0:\n",
        "        print(f'Epoch: {epoch:3d}. Loss: {loss.item():.4f}. Val Acc.: {vacc:2.2%}')\n",
        "\n",
        "    if vacc > best_acc:\n",
        "        trials = 0\n",
        "        best_acc = vacc\n",
        "        torch.save(model, DATA_PATH+\"model\")\n",
        "        print(f'Epoch {epoch} best model saved with val accuracy: {best_acc:2.2%}')\n",
        "    else:\n",
        "        trials += 1\n",
        "        if trials >= patience:\n",
        "            print(f'Early stopping on epoch {epoch}')\n",
        "            break"
      ],
      "metadata": {
        "id": "gHEiCNcGoX7W",
        "colab": {
          "base_uri": "https://localhost:8080/"
        },
        "outputId": "15df79a7-4229-4a5a-8586-195f2da58277"
      },
      "execution_count": 57,
      "outputs": [
        {
          "output_type": "stream",
          "name": "stdout",
          "text": [
            "Start model training\n"
          ]
        },
        {
          "output_type": "stream",
          "name": "stderr",
          "text": [
            "/usr/local/lib/python3.7/dist-packages/torch/optim/lr_scheduler.py:134: UserWarning: Detected call of `lr_scheduler.step()` before `optimizer.step()`. In PyTorch 1.1.0 and later, you should call them in the opposite order: `optimizer.step()` before `lr_scheduler.step()`.  Failure to do this will result in PyTorch skipping the first value of the learning rate schedule. See more details at https://pytorch.org/docs/stable/optim.html#how-to-adjust-learning-rate\n",
            "  \"https://pytorch.org/docs/stable/optim.html#how-to-adjust-learning-rate\", UserWarning)\n"
          ]
        },
        {
          "output_type": "stream",
          "name": "stdout",
          "text": [
            "Epoch 1 best model saved with val accuracy: 64.80%\n",
            "Epoch 2 best model saved with val accuracy: 65.70%\n",
            "Epoch 3 best model saved with val accuracy: 75.90%\n",
            "Epoch:   5. Loss: 0.5454. Val Acc.: 81.00%\n",
            "Epoch 5 best model saved with val accuracy: 81.00%\n",
            "Epoch 7 best model saved with val accuracy: 82.20%\n",
            "Epoch 9 best model saved with val accuracy: 84.50%\n",
            "Epoch:  10. Loss: 0.0992. Val Acc.: 87.00%\n",
            "Epoch 10 best model saved with val accuracy: 87.00%\n",
            "Epoch 13 best model saved with val accuracy: 87.10%\n",
            "Epoch 14 best model saved with val accuracy: 87.20%\n",
            "Epoch:  15. Loss: 0.1279. Val Acc.: 87.00%\n",
            "Epoch 17 best model saved with val accuracy: 88.60%\n",
            "Epoch:  20. Loss: 0.0174. Val Acc.: 89.30%\n",
            "Epoch 20 best model saved with val accuracy: 89.30%\n",
            "Epoch:  25. Loss: 0.0408. Val Acc.: 89.00%\n",
            "Epoch:  30. Loss: 0.0085. Val Acc.: 89.20%\n",
            "Epoch 31 best model saved with val accuracy: 89.40%\n",
            "Epoch 34 best model saved with val accuracy: 90.10%\n",
            "Epoch:  35. Loss: 0.0370. Val Acc.: 89.60%\n",
            "Epoch 36 best model saved with val accuracy: 90.20%\n",
            "Epoch 37 best model saved with val accuracy: 90.30%\n",
            "Epoch:  40. Loss: 0.0087. Val Acc.: 91.00%\n",
            "Epoch 40 best model saved with val accuracy: 91.00%\n",
            "Epoch:  45. Loss: 0.0103. Val Acc.: 88.50%\n",
            "Epoch:  50. Loss: 0.0040. Val Acc.: 89.90%\n",
            "Epoch:  55. Loss: 0.0078. Val Acc.: 89.90%\n",
            "Epoch:  60. Loss: 0.0051. Val Acc.: 90.00%\n",
            "Early stopping on epoch 60\n"
          ]
        }
      ]
    },
    {
      "cell_type": "code",
      "source": [
        "import matplotlib.pyplot as plt\n",
        "\n",
        "fig = plt.figure(figsize=(20,10))\n",
        "\n",
        "plt.title(\"Train-Validation Accuracy\")\n",
        "\n",
        "plt.plot(train_acc, label='train')\n",
        "\n",
        "plt.plot(val_acc, label='validation')\n",
        "\n",
        "plt.xlabel('num_epochs', fontsize=12)\n",
        "\n",
        "plt.ylabel('accuracy', fontsize=12)\n",
        "\n",
        "plt.ylim((0,100))\n",
        "#plt.xlim((0,n_epochs))\n",
        "\n",
        "plt.legend(loc='best')"
      ],
      "metadata": {
        "id": "mnyDpY1LXrnI",
        "colab": {
          "base_uri": "https://localhost:8080/",
          "height": 563
        },
        "outputId": "039098ee-bf7e-4cd0-9632-d07cd04f18f9"
      },
      "execution_count": 58,
      "outputs": [
        {
          "output_type": "execute_result",
          "data": {
            "text/plain": [
              "<matplotlib.legend.Legend at 0x7f9fc0db0a50>"
            ]
          },
          "metadata": {},
          "execution_count": 58
        },
        {
          "output_type": "display_data",
          "data": {
            "image/png": "[encoded data removed]",
            "text/plain": [
              "<Figure size 1440x720 with 1 Axes>"
            ]
          },
          "metadata": {
            "needs_background": "light"
          }
        }
      ]
    },
    {
      "cell_type": "code",
      "source": [
        "#Evaluate on test dataset\n",
        "\n",
        "torch.no_grad()\n",
        "count = 0\n",
        "correct = 0\n",
        "\n",
        "true = []\n",
        "preds = []\n",
        "\n",
        "model=model.to(device)\n",
        "\n",
        "for X_testbatch, y_testbatch in test_dataloader:\n",
        "    X_testbatch = X_testbatch.to(device)\n",
        "    y_testbatch = y_testbatch.to(device)\n",
        "\n",
        "    y_val = model(X_testbatch)\n",
        "        \n",
        "    predicted = torch.max(y_val,1)[1]\n",
        "    \n",
        "    count+= y_testbatch.size(dim=0)\n",
        "    correct += (predicted == y_testbatch).sum()\n",
        "\n",
        "    true.append(y_testbatch)\n",
        "    preds.append(predicted)\n",
        "\n",
        "ground_truth = torch.cat(true)\n",
        "predicted_genres = torch.cat(preds)\n",
        "print(f'Test accuracy: {correct.item()}/{count} = {correct.item()*100/(count):7.2f}%')"
      ],
      "metadata": {
        "id": "K74OWyTzxgRM",
        "outputId": "4c3587be-3743-4817-9a77-03f515fd32c2",
        "colab": {
          "base_uri": "https://localhost:8080/"
        }
      },
      "execution_count": 59,
      "outputs": [
        {
          "output_type": "stream",
          "name": "stdout",
          "text": [
            "Test accuracy: 907/1000 =   90.70%\n"
          ]
        }
      ]
    },
    {
      "cell_type": "code",
      "source": [
        "from sklearn.metrics import confusion_matrix\n",
        "import pandas as pd\n",
        "import seaborn as sns\n",
        "\n",
        "# Display the confusion matrix as a heatmap\n",
        "arr = confusion_matrix(ground_truth.view(-1).detach().cpu().numpy(), predicted_genres.view(-1).detach().cpu().numpy())\n",
        "class_names = ['pop', 'classical', 'jazz', 'hiphop', 'reggae', 'disco', ' metal', 'country', 'blues', 'rock']\n",
        "df_cm = pd.DataFrame(arr, class_names, class_names)\n",
        "plt.figure(figsize = (10,7))\n",
        "sns.heatmap(df_cm, annot=True, fmt=\"d\", cmap='BuGn')\n",
        "plt.xlabel(\"prediction\")\n",
        "plt.ylabel(\"ground truth\")\n",
        "plt.title('Confusion Matrix', fontsize=15)\n",
        "plt.show() \n"
      ],
      "metadata": {
        "id": "qmFtTl5exZV5",
        "outputId": "44add919-9de1-49a2-f1e5-9bdccb87cadd",
        "colab": {
          "base_uri": "https://localhost:8080/",
          "height": 460
        }
      },
      "execution_count": 60,
      "outputs": [
        {
          "output_type": "display_data",
          "data": {
            "image/png": "[encoded data removed]",
            "text/plain": [
              "<Figure size 720x504 with 2 Axes>"
            ]
          },
          "metadata": {
            "needs_background": "light"
          }
        }
      ]
    }
  ]
}
