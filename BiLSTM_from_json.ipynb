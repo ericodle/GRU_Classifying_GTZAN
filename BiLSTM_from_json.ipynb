{
  "nbformat": 4,
  "nbformat_minor": 0,
  "metadata": {
    "colab": {
      "name": "BiLSTM_from_json.ipynb",
      "provenance": [],
      "collapsed_sections": [],
      "authorship_tag": "ABX9TyPWOlVzdKl+xWkVt98fHbOs",
      "include_colab_link": true
    },
    "kernelspec": {
      "name": "python3",
      "display_name": "Python 3"
    },
    "language_info": {
      "name": "python"
    },
    "accelerator": "GPU"
  },
  "cells": [
    {
      "cell_type": "markdown",
      "metadata": {
        "id": "view-in-github",
        "colab_type": "text"
      },
      "source": [
        "<a href=\"https://colab.research.google.com/github/ericodle/Genre-Classification-Using-LSTM/blob/main/BiLSTM_from_json.ipynb\" target=\"_parent\"><img src=\"https://colab.research.google.com/assets/colab-badge.svg\" alt=\"Open In Colab\"/></a>"
      ]
    },
    {
      "cell_type": "code",
      "execution_count": 100,
      "metadata": {
        "colab": {
          "base_uri": "https://localhost:8080/"
        },
        "id": "nlbr7kiwdJ2x",
        "outputId": "a44ec567-a8c4-4b45-ab69-fa11101f2162"
      },
      "outputs": [
        {
          "output_type": "stream",
          "name": "stdout",
          "text": [
            "Drive already mounted at /content/drive; to attempt to forcibly remount, call drive.mount(\"/content/drive\", force_remount=True).\n"
          ]
        }
      ],
      "source": [
        "from google.colab import drive\n",
        "drive.mount('/content/drive')"
      ]
    },
    {
      "cell_type": "code",
      "source": [
        "import json\n",
        "import numpy as np\n",
        "from sklearn.model_selection import train_test_split\n",
        "import os\n",
        "import torch\n",
        "from torch import nn\n",
        "from torch.utils.data import DataLoader\n",
        "from torchvision import transforms\n",
        "import torch.optim as optim\n",
        "from torch.optim.lr_scheduler import _LRScheduler\n",
        "from torch.nn import functional as F"
      ],
      "metadata": {
        "id": "61zO5hBoQ45H"
      },
      "execution_count": 101,
      "outputs": []
    },
    {
      "cell_type": "code",
      "source": [
        "# Ensure that all operations are deterministic on GPU (if used) for reproducibility\n",
        "torch.backends.cudnn.determinstic = True\n",
        "torch.backends.cudnn.benchmark = False\n",
        "\n",
        "# Fetching the device that will be used throughout this notebook\n",
        "device = torch.device(\"cpu\") if not torch.cuda.is_available() else torch.device(\"cuda:0\")\n",
        "print(\"Using device\", device)"
      ],
      "metadata": {
        "colab": {
          "base_uri": "https://localhost:8080/"
        },
        "id": "4Rxa_LeEIH5h",
        "outputId": "705d34b0-532c-4f39-ebac-ec187ed25730"
      },
      "execution_count": 102,
      "outputs": [
        {
          "output_type": "stream",
          "name": "stdout",
          "text": [
            "Using device cuda:0\n"
          ]
        }
      ]
    },
    {
      "cell_type": "code",
      "source": [
        "# path to json file that stores MFCCs and genre labels for each processed segment\n",
        "DATA_PATH = \"/content/drive/MyDrive/data_10.json\""
      ],
      "metadata": {
        "id": "Kl3YnRykRKx5"
      },
      "execution_count": 103,
      "outputs": []
    },
    {
      "cell_type": "code",
      "source": [
        "def load_data(data_path):\n",
        "    \"\"\"Loads training dataset from json file.\n",
        "        :param data_path (str): Path to json file containing data\n",
        "        :return X (ndarray): Inputs\n",
        "        :return y (ndarray): Targets\n",
        "    \"\"\"\n",
        "\n",
        "    with open(data_path, \"r\") as fp:\n",
        "        data = json.load(fp)\n",
        "\n",
        "    # convert lists to numpy arrays\n",
        "    X = np.array(data[\"mfcc\"])\n",
        "    y = np.array(data[\"labels\"])\n",
        "\n",
        "    print(\"Data succesfully loaded!\")\n",
        "\n",
        "    return  X, y"
      ],
      "metadata": {
        "id": "06G05AWGRKJx"
      },
      "execution_count": 104,
      "outputs": []
    },
    {
      "cell_type": "code",
      "source": [
        "    # load data\n",
        "    X, y = load_data(DATA_PATH)\n",
        "\n",
        "    # create train/test split\n",
        "    X_train, X_val, y_train, y_val = train_test_split(X, y, test_size=0.3)"
      ],
      "metadata": {
        "colab": {
          "base_uri": "https://localhost:8080/"
        },
        "id": "qkxPkDbySnSb",
        "outputId": "f325b16d-ceb6-4b8d-e170-dcc77b6e7801"
      },
      "execution_count": 105,
      "outputs": [
        {
          "output_type": "stream",
          "name": "stdout",
          "text": [
            "Data succesfully loaded!\n"
          ]
        }
      ]
    },
    {
      "cell_type": "code",
      "source": [
        "from torch.utils.data import TensorDataset, DataLoader\n",
        "\n",
        "tensor_X_train = torch.Tensor(X_train)\n",
        "tensor_X_val = torch.Tensor(X_val)\n",
        "tensor_y_train = torch.Tensor(y_train)\n",
        "tensor_y_val = torch.Tensor(y_val)\n",
        "\n",
        "train_dataset = TensorDataset(tensor_X_train,tensor_y_train)\n",
        "val_dataset = TensorDataset(tensor_X_val,tensor_y_val)\n",
        "\n",
        "train_dataloader = DataLoader(train_dataset, batch_size=64, shuffle=True)\n",
        "val_dataloader = DataLoader(val_dataset, batch_size=64, shuffle=True)"
      ],
      "metadata": {
        "id": "FqfTDVtsekMb"
      },
      "execution_count": 106,
      "outputs": []
    },
    {
      "cell_type": "code",
      "source": [
        "class PrintLayer(nn.Module):\n",
        "    def __init__(self):\n",
        "        super(PrintLayer, self).__init__()\n",
        "                    \n",
        "    def forward(self, x):\n",
        "        # Do your print / debug stuff here\n",
        "        print(x.shape)\n",
        "        return x"
      ],
      "metadata": {
        "id": "vvKMEc3oqgXi"
      },
      "execution_count": 107,
      "outputs": []
    },
    {
      "cell_type": "code",
      "source": [
        "class LSTMClassifier(nn.Module):\n",
        "    \"\"\"Very simple implementation of LSTM-based time-series classifier.\"\"\"\n",
        "    \n",
        "    def __init__(self, input_dim, hidden_dim, layer_dim, output_dim):\n",
        "        super().__init__()\n",
        "        self.hidden_dim = hidden_dim\n",
        "        self.layer_dim = layer_dim\n",
        "        self.rnn = nn.LSTM(input_dim, hidden_dim, layer_dim, batch_first=True, bidirectional=True)\n",
        "        self.fc = nn.Linear(hidden_dim*2, output_dim)\n",
        "        self.batch_size = None\n",
        "        self.hidden = None\n",
        "    \n",
        "    def forward(self, x):\n",
        "        h0, c0 = self.init_hidden(x)\n",
        "        out, (hn, cn) = self.rnn(x, (h0, c0))\n",
        "\n",
        "        out = self.fc(out[:, -1, :])\n",
        "        return out\n",
        "    \n",
        "    def init_hidden(self, x):\n",
        "        h0 = torch.zeros(self.layer_dim*2, x.size(0), self.hidden_dim)\n",
        "        c0 = torch.zeros(self.layer_dim*2, x.size(0), self.hidden_dim)\n",
        "        return [t.cuda() for t in (h0, c0)]"
      ],
      "metadata": {
        "id": "hBBsr88-D3Kv"
      },
      "execution_count": 108,
      "outputs": []
    },
    {
      "cell_type": "code",
      "source": [
        "def accuracy(out, labels):\n",
        "\n",
        "    _,pred = torch.max(out, dim=1)\n",
        "\n",
        "    return torch.sum(pred==labels).item()"
      ],
      "metadata": {
        "id": "-c7jpLNfWh13"
      },
      "execution_count": 109,
      "outputs": []
    },
    {
      "cell_type": "code",
      "source": [
        "input_dim = 13    \n",
        "hidden_dim = 256\n",
        "layer_dim = 2\n",
        "output_dim = 10\n",
        "seq_dim = 130\n",
        "\n",
        "train_acc = []\n",
        "val_acc = []\n",
        "\n",
        "lr = 0.005\n",
        "n_epochs = 200\n",
        "iterations_per_epoch = len(train_dataloader)\n",
        "best_acc = 0\n",
        "patience, trials = 50, 0\n",
        "\n",
        "model = LSTMClassifier(input_dim, hidden_dim, layer_dim, output_dim)\n",
        "model = model.to(device)\n",
        "criterion = nn.CrossEntropyLoss()\n",
        "opt = torch.optim.SGD(model.parameters(), lr=0.1, momentum=0.9)\n",
        "sched = torch.optim.lr_scheduler.CyclicLR(opt, base_lr=0.01, max_lr=0.1)\n",
        "\n",
        "print('Start model training')\n",
        "\n",
        "for epoch in range(1, n_epochs + 1):\n",
        "\n",
        "    losses = []\n",
        "    tcorrect, ttotal = 0, 0\n",
        "    for (x_batch, y_batch) in train_dataloader:\n",
        "        model.train()\n",
        "        x_batch, y_batch = [t.cuda() for t in (x_batch, y_batch)]\n",
        "        y_batch = y_batch.to(torch.int64)\n",
        "        opt.zero_grad()\n",
        "        out = model(x_batch)\n",
        "\n",
        "        loss = criterion(out, y_batch)\n",
        "        losses.append(loss.item())\n",
        "        loss.backward()\n",
        "        opt.step()\n",
        "        sched.step()\n",
        "\n",
        "        _,pred = torch.max(out, dim=1)\n",
        "        ttotal += y_batch.size(0)\n",
        "        tcorrect += torch.sum(pred==y_batch).item()\n",
        "\n",
        "    train_acc.append(100 * tcorrect / ttotal)\n",
        "    \n",
        "    model.eval()\n",
        "    vcorrect, vtotal = 0, 0\n",
        "    for x_val, y_val in val_dataloader:\n",
        "        x_val, y_val = [t.cuda() for t in (x_val, y_val)]\n",
        "        out = model(x_val)\n",
        "        preds = F.log_softmax(out, dim=1).argmax(dim=1)\n",
        "        vtotal += y_val.size(0)\n",
        "        vcorrect += (preds == y_val).sum().item()\n",
        "    \n",
        "    vacc = vcorrect / vtotal\n",
        "    val_acc.append(vacc*100)\n",
        "\n",
        "    if epoch % 5 == 0:\n",
        "        print(f'Epoch: {epoch:3d}. Loss: {loss.item():.4f}. Val Acc.: {vacc:2.2%}')\n",
        "\n",
        "    if vacc > best_acc:\n",
        "        trials = 0\n",
        "        best_acc = vacc\n",
        "        torch.save(model.state_dict(), 'best.pth')\n",
        "        print(f'Epoch {epoch} best model saved with val accuracy: {best_acc:2.2%}')\n",
        "    else:\n",
        "        trials += 1\n",
        "        if trials >= patience:\n",
        "            print(f'Early stopping on epoch {epoch}')\n",
        "            break"
      ],
      "metadata": {
        "id": "gHEiCNcGoX7W",
        "colab": {
          "base_uri": "https://localhost:8080/"
        },
        "outputId": "719e10ec-52ca-48ac-b69d-c211df32fbcf"
      },
      "execution_count": 126,
      "outputs": [
        {
          "output_type": "stream",
          "name": "stdout",
          "text": [
            "Start model training\n",
            "Epoch 1 best model saved with val accuracy: 41.28%\n",
            "Epoch:   5. Loss: 1.7932. Val Acc.: 42.35%\n",
            "Epoch 5 best model saved with val accuracy: 42.35%\n",
            "Epoch 6 best model saved with val accuracy: 45.12%\n",
            "Epoch 7 best model saved with val accuracy: 47.15%\n",
            "Epoch 9 best model saved with val accuracy: 48.32%\n",
            "Epoch:  10. Loss: 1.3808. Val Acc.: 50.38%\n",
            "Epoch 10 best model saved with val accuracy: 50.38%\n",
            "Epoch 14 best model saved with val accuracy: 51.95%\n",
            "Epoch:  15. Loss: 1.1756. Val Acc.: 44.38%\n",
            "Epoch 17 best model saved with val accuracy: 55.25%\n",
            "Epoch:  20. Loss: 0.7455. Val Acc.: 58.39%\n",
            "Epoch 20 best model saved with val accuracy: 58.39%\n",
            "Epoch 22 best model saved with val accuracy: 61.25%\n",
            "Epoch:  25. Loss: 1.4152. Val Acc.: 64.85%\n",
            "Epoch 25 best model saved with val accuracy: 64.85%\n",
            "Epoch 28 best model saved with val accuracy: 65.42%\n",
            "Epoch 29 best model saved with val accuracy: 69.49%\n",
            "Epoch:  30. Loss: 0.9273. Val Acc.: 69.16%\n",
            "Epoch 31 best model saved with val accuracy: 69.72%\n",
            "Epoch 32 best model saved with val accuracy: 72.36%\n",
            "Epoch 34 best model saved with val accuracy: 75.09%\n",
            "Epoch:  35. Loss: 0.4217. Val Acc.: 74.46%\n",
            "Epoch 36 best model saved with val accuracy: 76.53%\n",
            "Epoch 37 best model saved with val accuracy: 77.46%\n",
            "Epoch:  40. Loss: 0.3994. Val Acc.: 71.69%\n",
            "Epoch:  45. Loss: 0.4159. Val Acc.: 71.39%\n",
            "Epoch:  50. Loss: 0.3276. Val Acc.: 71.06%\n",
            "Epoch:  55. Loss: 0.2642. Val Acc.: 71.29%\n",
            "Epoch:  60. Loss: 0.4330. Val Acc.: 77.93%\n",
            "Epoch 60 best model saved with val accuracy: 77.93%\n",
            "Epoch 62 best model saved with val accuracy: 79.53%\n",
            "Epoch 64 best model saved with val accuracy: 80.36%\n",
            "Epoch:  65. Loss: 0.2464. Val Acc.: 80.53%\n",
            "Epoch 65 best model saved with val accuracy: 80.53%\n",
            "Epoch 67 best model saved with val accuracy: 81.33%\n",
            "Epoch 69 best model saved with val accuracy: 82.83%\n",
            "Epoch:  70. Loss: 0.3280. Val Acc.: 83.43%\n",
            "Epoch 70 best model saved with val accuracy: 83.43%\n",
            "Epoch 72 best model saved with val accuracy: 84.06%\n",
            "Epoch 74 best model saved with val accuracy: 84.09%\n",
            "Epoch:  75. Loss: 0.0390. Val Acc.: 84.19%\n",
            "Epoch 75 best model saved with val accuracy: 84.19%\n",
            "Epoch:  80. Loss: 0.1773. Val Acc.: 82.53%\n",
            "Epoch:  85. Loss: 0.2315. Val Acc.: 77.23%\n",
            "Epoch:  90. Loss: 0.6033. Val Acc.: 76.03%\n",
            "Epoch:  95. Loss: 0.1106. Val Acc.: 81.59%\n",
            "Epoch: 100. Loss: 0.1367. Val Acc.: 83.23%\n",
            "Epoch 103 best model saved with val accuracy: 84.86%\n",
            "Epoch: 105. Loss: 0.0859. Val Acc.: 84.93%\n",
            "Epoch 105 best model saved with val accuracy: 84.93%\n",
            "Epoch 106 best model saved with val accuracy: 85.63%\n",
            "Epoch 108 best model saved with val accuracy: 85.96%\n",
            "Epoch: 110. Loss: 0.0041. Val Acc.: 86.03%\n",
            "Epoch 110 best model saved with val accuracy: 86.03%\n",
            "Epoch 112 best model saved with val accuracy: 86.16%\n",
            "Epoch: 115. Loss: 0.0177. Val Acc.: 85.26%\n",
            "Epoch: 120. Loss: 0.0848. Val Acc.: 81.89%\n",
            "Epoch: 125. Loss: 0.1425. Val Acc.: 81.03%\n",
            "Epoch: 130. Loss: 0.0656. Val Acc.: 79.53%\n",
            "Epoch: 135. Loss: 0.0321. Val Acc.: 83.99%\n",
            "Epoch: 140. Loss: 0.0868. Val Acc.: 85.56%\n",
            "Epoch 143 best model saved with val accuracy: 86.76%\n",
            "Epoch: 145. Loss: 0.0013. Val Acc.: 86.93%\n",
            "Epoch 145 best model saved with val accuracy: 86.93%\n",
            "Epoch: 150. Loss: 0.0020. Val Acc.: 86.63%\n",
            "Epoch: 155. Loss: 0.0015. Val Acc.: 86.16%\n",
            "Epoch: 160. Loss: 0.0673. Val Acc.: 81.86%\n",
            "Epoch: 165. Loss: 0.1617. Val Acc.: 81.29%\n",
            "Epoch: 170. Loss: 0.0557. Val Acc.: 83.73%\n",
            "Epoch: 175. Loss: 0.0213. Val Acc.: 85.56%\n",
            "Epoch: 180. Loss: 0.0015. Val Acc.: 86.33%\n",
            "Epoch: 185. Loss: 0.0007. Val Acc.: 86.13%\n",
            "Epoch: 190. Loss: 0.0007. Val Acc.: 86.50%\n",
            "Epoch: 195. Loss: 0.0013. Val Acc.: 86.53%\n",
            "Early stopping on epoch 195\n"
          ]
        }
      ]
    },
    {
      "cell_type": "code",
      "source": [
        "import matplotlib.pyplot as plt\n",
        "\n",
        "fig = plt.figure(figsize=(20,10))\n",
        "\n",
        "plt.title(\"Train-Validation Accuracy\")\n",
        "\n",
        "plt.plot(train_acc, label='train')\n",
        "\n",
        "plt.plot(val_acc, label='validation')\n",
        "\n",
        "plt.xlabel('num_epochs', fontsize=12)\n",
        "\n",
        "plt.ylabel('accuracy', fontsize=12)\n",
        "\n",
        "plt.ylim((0,100))\n",
        "#plt.xlim((0,n_epochs))\n",
        "\n",
        "plt.legend(loc='best')"
      ],
      "metadata": {
        "id": "mnyDpY1LXrnI",
        "colab": {
          "base_uri": "https://localhost:8080/",
          "height": 563
        },
        "outputId": "312bbae0-c95b-4cf8-ab5e-c85befc60c5f"
      },
      "execution_count": 127,
      "outputs": [
        {
          "output_type": "execute_result",
          "data": {
            "text/plain": [
              "<matplotlib.legend.Legend at 0x7f238daa5f90>"
            ]
          },
          "metadata": {},
          "execution_count": 127
        },
        {
          "output_type": "display_data",
          "data": {
            "image/png": "[encoded data removed]",
            "text/plain": [
              "<Figure size 1440x720 with 1 Axes>"
            ]
          },
          "metadata": {
            "needs_background": "light"
          }
        }
      ]
    },
    {
      "cell_type": "markdown",
      "source": [
        "Stuff that needs tweaking"
      ],
      "metadata": {
        "id": "ovngUEXmH5t5"
      }
    },
    {
      "cell_type": "code",
      "source": [
        "import sklearn\n",
        "\n",
        "def get_confusion_matrix(model, test_data):\n",
        "    # First we make sure we disable Gradient Computing\n",
        "    torch.no_grad()\n",
        "    \n",
        "    # Model in Evaluation Mode\n",
        "    model.eval()\n",
        "\n",
        "    preds, actuals = [], []\n",
        "\n",
        "    for image, label in val_dataloader:\n",
        "        image, label = [t.cuda() for t in (image, label)]\n",
        "        #image = image.view(-1, 28, 28)\n",
        "        out = model(image)\n",
        "\n",
        "        prediction = torch.max(out, dim=1)\n",
        "        preds.append(prediction)\n",
        "        actuals.append(label)\n",
        "    \n",
        "    return sklearn.metrics.confusion_matrix(preds, actuals)"
      ],
      "metadata": {
        "id": "hl_b0viJH1xm"
      },
      "execution_count": null,
      "outputs": []
    },
    {
      "cell_type": "code",
      "source": [
        "import seaborn as sns\n",
        "\n",
        "plt.figure(figsize=(16, 5))\n",
        "sns.heatmap(get_confusion_matrix(model, val_dataloader), cmap='icefire', annot=True, linewidths=0.1,\n",
        "           fmt = ',')\n",
        "plt.title('Confusion Matrix: LSTM', fontsize=15);\n",
        "\n"
      ],
      "metadata": {
        "id": "X8XeTre_H5Aq"
      },
      "execution_count": null,
      "outputs": []
    },
    {
      "cell_type": "code",
      "source": [
        "model.load_state_dict(torch.load('best.pth'))\n",
        "\n",
        "model.eval()"
      ],
      "metadata": {
        "id": "ezFXK8HjGkHa"
      },
      "execution_count": null,
      "outputs": []
    },
    {
      "cell_type": "code",
      "source": [
        "###Needs adapting to my system\n",
        "\n",
        "test_acc = []\n",
        "print('Predicting on test dataset')\n",
        "for batch, _ in test_dl:\n",
        "    batch = batch.permute(0, 2, 1)\n",
        "    out = model(batch.cuda())\n",
        "    y_hat = F.log_softmax(out, dim=1).argmax(dim=1)\n",
        "    test += y_hat.tolist()\n",
        "\n"
      ],
      "metadata": {
        "id": "2Lz20B2tHhOf"
      },
      "execution_count": null,
      "outputs": []
    }
  ]
}