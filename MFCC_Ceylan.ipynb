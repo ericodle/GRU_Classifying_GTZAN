{
  "nbformat": 4,
  "nbformat_minor": 0,
  "metadata": {
    "colab": {
      "name": "MFCC_Ceylan.ipynb",
      "provenance": [],
      "collapsed_sections": [],
      "authorship_tag": "ABX9TyNbrvXfVTnwBTv4nJIe49zH",
      "include_colab_link": true
    },
    "kernelspec": {
      "name": "python3",
      "display_name": "Python 3"
    },
    "language_info": {
      "name": "python"
    },
    "accelerator": "GPU"
  },
  "cells": [
    {
      "cell_type": "markdown",
      "metadata": {
        "id": "view-in-github",
        "colab_type": "text"
      },
      "source": [
        "<a href=\"https://colab.research.google.com/github/ericodle/Genre-Classification-Using-LSTM/blob/main/MFCC_Ceylan.ipynb\" target=\"_parent\"><img src=\"https://colab.research.google.com/assets/colab-badge.svg\" alt=\"Open In Colab\"/></a>"
      ]
    },
    {
      "cell_type": "code",
      "source": [
        "from google.colab import drive\n",
        "drive.mount('/content/drive')"
      ],
      "metadata": {
        "colab": {
          "base_uri": "https://localhost:8080/"
        },
        "id": "9z2rFJ8FMTHt",
        "outputId": "ce2b4da2-0e8e-47ed-8656-d5690b045655"
      },
      "execution_count": null,
      "outputs": [
        {
          "output_type": "stream",
          "name": "stdout",
          "text": [
            "Drive already mounted at /content/drive; to attempt to forcibly remount, call drive.mount(\"/content/drive\", force_remount=True).\n"
          ]
        }
      ]
    },
    {
      "cell_type": "code",
      "execution_count": null,
      "metadata": {
        "id": "JpKm87TxIojM"
      },
      "outputs": [],
      "source": [
        "%matplotlib inline\n",
        "%config InlineBackend.figure_format = 'retina'\n",
        "import matplotlib.pyplot as plt\n",
        "import numpy as np\n",
        "import torch\n",
        "from torch import nn\n",
        "from torch import optim\n",
        "import torch.nn.functional as F\n",
        "from torchvision import datasets, transforms, models"
      ]
    },
    {
      "cell_type": "code",
      "source": [
        "data_dir = '/content/drive/MyDrive/'   "
      ],
      "metadata": {
        "id": "SnMMaTSOJGqf"
      },
      "execution_count": null,
      "outputs": []
    },
    {
      "cell_type": "code",
      "source": [
        "transforms = transforms.Compose([transforms.Resize(224),\n",
        "                                      transforms.ToTensor(),\n",
        "                                      ])"
      ],
      "metadata": {
        "id": "s8T6VDd_Ligu"
      },
      "execution_count": null,
      "outputs": []
    },
    {
      "cell_type": "code",
      "source": [
        "train_data = datasets.ImageFolder(data_dir + 'train_set', transform=transforms)\n",
        "test_data = datasets.ImageFolder(data_dir + 'val_set', transform=transforms)\n"
      ],
      "metadata": {
        "id": "FQxyzNZWMyzz"
      },
      "execution_count": null,
      "outputs": []
    },
    {
      "cell_type": "code",
      "source": [
        "trainloader = torch.utils.data.DataLoader(train_data, batch_size=1, shuffle=True)\n",
        "testloader = torch.utils.data.DataLoader(test_data, batch_size=1, shuffle=True)"
      ],
      "metadata": {
        "id": "0GpUB0sFM5Vq"
      },
      "execution_count": null,
      "outputs": []
    },
    {
      "cell_type": "code",
      "source": [
        "classes = ['blues', 'classical', 'country', 'disco', 'hiphop', 'jazz', 'metal', 'pop', 'reggae', 'rock']\n"
      ],
      "metadata": {
        "id": "4d6Fe3K0U8pH"
      },
      "execution_count": null,
      "outputs": []
    },
    {
      "cell_type": "code",
      "source": [
        "device = torch.device(\"cuda\" if torch.cuda.is_available() \n",
        "                                  else \"cpu\")"
      ],
      "metadata": {
        "id": "CuWfKsLeggAS"
      },
      "execution_count": null,
      "outputs": []
    },
    {
      "cell_type": "code",
      "source": [
        "class CNN(nn.Module):\n",
        "    def __init__(self):\n",
        "        super(CNN, self).__init__()\n",
        "\n",
        "        self.conv1 = nn.Conv2d(3, 256, 3)\n",
        "\n",
        "        self.conv2 = nn.Conv2d(256, 256, 3)\n",
        "        \n",
        "        self.conv3 = nn.Conv2d(256, 512, 3)\n",
        "       \n",
        "        self.conv4 = nn.Conv2d(512, 512, 4)\n",
        "\n",
        "        self.pool = nn.AvgPool2d(3,2,1)\n",
        "\n",
        "        self.final = nn.Conv2d(512, 1, (51,60))\n",
        "        \n",
        "        self.fc1 = nn.Linear(20, 256)\n",
        "        self.fc2 = nn.Linear(256, 128)\n",
        "        self.fc3 = nn.Linear(128, 10)\n",
        "\n",
        "\n",
        "    def forward(self, x):\n",
        "        x = F.relu(self.conv1(x))\n",
        "        #print('conv1')\n",
        "        #print(x.shape)\n",
        "\n",
        "        x = F.relu(self.conv2(x))\n",
        "        #print('conv2')\n",
        "        #print(x.shape)\n",
        "\n",
        "        x = self.pool(x)\n",
        "        #print('pool1')\n",
        "        #print(x.shape)\n",
        "\n",
        "        x = F.relu(self.conv3(x))\n",
        "        #print('conv3')\n",
        "        #print(x.shape)\n",
        "\n",
        "        x = self.pool(x)\n",
        "        #print('pool2')\n",
        "        #print(x.shape)\n",
        "\n",
        "        x = F.relu(self.conv4(x))\n",
        "        #print('conv4')\n",
        "        #print(x.shape)\n",
        "\n",
        "        \n",
        "        x = self.final(x)\n",
        "        #print('final')\n",
        "        #print(x.shape)\n",
        "\n",
        "\n",
        "        x = F.relu(self.fc1(x))\n",
        "        #print('1x256')\n",
        "        #print(x.shape)\n",
        "\n",
        "        x = F.relu(self.fc2(x))\n",
        "        #print('1x128')\n",
        "        #print(x.shape)\n",
        "\n",
        "        x = self.fc3(x)\n",
        "        #print('1x10')\n",
        "        #print(x.shape)\n",
        "\n",
        "        x = x.reshape((1,10))\n",
        "        #print('reshaped')\n",
        "        #print(x.shape)\n",
        "\n",
        "        return x\n",
        "\n",
        "\n",
        "net = CNN()\n",
        "print(net)"
      ],
      "metadata": {
        "colab": {
          "base_uri": "https://localhost:8080/"
        },
        "id": "p3F4dpodyYNH",
        "outputId": "4697cb72-4351-4481-f464-7130adb15f3e"
      },
      "execution_count": null,
      "outputs": [
        {
          "output_type": "stream",
          "name": "stdout",
          "text": [
            "CNN(\n",
            "  (conv1): Conv2d(3, 256, kernel_size=(3, 3), stride=(1, 1))\n",
            "  (conv2): Conv2d(256, 256, kernel_size=(3, 3), stride=(1, 1))\n",
            "  (conv3): Conv2d(256, 512, kernel_size=(3, 3), stride=(1, 1))\n",
            "  (conv4): Conv2d(512, 512, kernel_size=(4, 4), stride=(1, 1))\n",
            "  (pool): AvgPool2d(kernel_size=3, stride=2, padding=1)\n",
            "  (final): Conv2d(512, 1, kernel_size=(51, 60), stride=(1, 1))\n",
            "  (fc1): Linear(in_features=20, out_features=256, bias=True)\n",
            "  (fc2): Linear(in_features=256, out_features=128, bias=True)\n",
            "  (fc3): Linear(in_features=128, out_features=10, bias=True)\n",
            ")\n"
          ]
        }
      ]
    },
    {
      "cell_type": "code",
      "source": [
        "for param in model.parameters():\n",
        "    param.requires_grad = True\n",
        "    \n",
        "model = net\n",
        "criterion = nn.CrossEntropyLoss()\n",
        "optimizer = optim.Adam(model.parameters(), lr=0.01)\n",
        "model.to(device)"
      ],
      "metadata": {
        "colab": {
          "base_uri": "https://localhost:8080/"
        },
        "id": "4yIpC95JygiN",
        "outputId": "729b991e-e0ae-43f6-cd74-fb427c011395"
      },
      "execution_count": null,
      "outputs": [
        {
          "output_type": "execute_result",
          "data": {
            "text/plain": [
              "CNN(\n",
              "  (conv1): Conv2d(3, 256, kernel_size=(3, 3), stride=(1, 1))\n",
              "  (conv2): Conv2d(256, 256, kernel_size=(3, 3), stride=(1, 1))\n",
              "  (conv3): Conv2d(256, 512, kernel_size=(3, 3), stride=(1, 1))\n",
              "  (conv4): Conv2d(512, 512, kernel_size=(4, 4), stride=(1, 1))\n",
              "  (pool): AvgPool2d(kernel_size=3, stride=2, padding=1)\n",
              "  (final): Conv2d(512, 1, kernel_size=(51, 60), stride=(1, 1))\n",
              "  (fc1): Linear(in_features=20, out_features=256, bias=True)\n",
              "  (fc2): Linear(in_features=256, out_features=128, bias=True)\n",
              "  (fc3): Linear(in_features=128, out_features=10, bias=True)\n",
              ")"
            ]
          },
          "metadata": {},
          "execution_count": 53
        }
      ]
    },
    {
      "cell_type": "code",
      "source": [
        "torch.cuda.empty_cache()"
      ],
      "metadata": {
        "id": "HNvMmZdhuJWF"
      },
      "execution_count": null,
      "outputs": []
    },
    {
      "cell_type": "code",
      "source": [
        "epochs = 1\n",
        "steps = 0\n",
        "running_loss = 0\n",
        "print_every = 1\n",
        "train_losses, test_losses = [], []\n",
        "\n",
        "for epoch in range(epochs):\n",
        "    for inputs, labels in trainloader:\n",
        "        steps += 1\n",
        "        inputs, labels = inputs.to(device), labels.to(device)\n",
        "        optimizer.zero_grad()\n",
        "        logps = model.forward(inputs)\n",
        "        loss = criterion(logps, labels)\n",
        "        loss.backward()\n",
        "        optimizer.step()\n",
        "        running_loss += loss.item()\n",
        "\n",
        "        if steps % print_every == 0:\n",
        "            test_loss = 0\n",
        "            accuracy = 0\n",
        "            model.eval()\n",
        "            with torch.no_grad():\n",
        "                for inputs, labels in testloader:\n",
        "                    inputs, labels = inputs.to(device),labels.to(device)\n",
        "                    logps = model.forward(inputs)\n",
        "                    batch_loss = criterion(logps, labels)\n",
        "                    test_loss += batch_loss.item()\n",
        "                    \n",
        "                    ps = torch.exp(logps)\n",
        "                    top_p, top_class = ps.topk(1, dim=1)\n",
        "                    equals = top_class == labels.view(*top_class.shape)\n",
        "                    accuracy += torch.mean(equals.type(torch.FloatTensor)).item()\n",
        "            train_losses.append(running_loss/len(trainloader))\n",
        "            test_losses.append(test_loss/len(testloader))                    \n",
        "            print(f\"Epoch {epoch+1}/{epochs}.. \"\n",
        "                  f\"Train loss: {running_loss/print_every:.3f}.. \"\n",
        "                  f\"Test loss: {test_loss/len(testloader):.3f}.. \"\n",
        "                  f\"Test accuracy: {accuracy/len(testloader):.3f}\")\n",
        "            running_loss = 0\n",
        "            model.train()\n",
        "torch.save(model, 'working_mod.pth')"
      ],
      "metadata": {
        "id": "hg4WFVeKhGXP",
        "colab": {
          "base_uri": "https://localhost:8080/",
          "height": 1000
        },
        "outputId": "9bc7782a-a158-46e6-b29b-c3a366d138c8"
      },
      "execution_count": null,
      "outputs": [
        {
          "output_type": "stream",
          "name": "stdout",
          "text": [
            "Epoch 1/1.. Train loss: 52.470.. Test loss: 1439.765.. Test accuracy: 0.100\n",
            "Epoch 1/1.. Train loss: 2104.513.. Test loss: 65.446.. Test accuracy: 0.100\n",
            "Epoch 1/1.. Train loss: 35.206.. Test loss: 58.530.. Test accuracy: 0.100\n",
            "Epoch 1/1.. Train loss: 64.631.. Test loss: 19.841.. Test accuracy: 0.100\n",
            "Epoch 1/1.. Train loss: 21.719.. Test loss: 29.327.. Test accuracy: 0.100\n",
            "Epoch 1/1.. Train loss: 23.024.. Test loss: 40.632.. Test accuracy: 0.100\n",
            "Epoch 1/1.. Train loss: 27.324.. Test loss: 30.821.. Test accuracy: 0.100\n",
            "Epoch 1/1.. Train loss: 45.757.. Test loss: 94.639.. Test accuracy: 0.100\n",
            "Epoch 1/1.. Train loss: 93.651.. Test loss: 18.870.. Test accuracy: 0.100\n",
            "Epoch 1/1.. Train loss: 26.997.. Test loss: 70.051.. Test accuracy: 0.100\n",
            "Epoch 1/1.. Train loss: 76.894.. Test loss: 29.073.. Test accuracy: 0.100\n",
            "Epoch 1/1.. Train loss: 2.414.. Test loss: 14.757.. Test accuracy: 0.100\n",
            "Epoch 1/1.. Train loss: 0.367.. Test loss: 17.566.. Test accuracy: 0.100\n",
            "Epoch 1/1.. Train loss: 19.909.. Test loss: 2.865.. Test accuracy: 0.100\n",
            "Epoch 1/1.. Train loss: 2.556.. Test loss: 466.504.. Test accuracy: 0.110\n",
            "Epoch 1/1.. Train loss: 141.293.. Test loss: 83.722.. Test accuracy: 0.100\n",
            "Epoch 1/1.. Train loss: 110.868.. Test loss: 12.534.. Test accuracy: 0.100\n",
            "Epoch 1/1.. Train loss: 2.153.. Test loss: 92.619.. Test accuracy: 0.100\n",
            "Epoch 1/1.. Train loss: 51.290.. Test loss: 32.950.. Test accuracy: 0.100\n",
            "Epoch 1/1.. Train loss: 9.745.. Test loss: 57.868.. Test accuracy: 0.120\n",
            "Epoch 1/1.. Train loss: 39.981.. Test loss: 56.561.. Test accuracy: 0.100\n",
            "Epoch 1/1.. Train loss: 15.729.. Test loss: 4.629.. Test accuracy: 0.100\n",
            "Epoch 1/1.. Train loss: 3.694.. Test loss: 2.308.. Test accuracy: 0.100\n",
            "Epoch 1/1.. Train loss: 2.307.. Test loss: 2.307.. Test accuracy: 0.100\n",
            "Epoch 1/1.. Train loss: 2.225.. Test loss: 2.307.. Test accuracy: 0.100\n",
            "Epoch 1/1.. Train loss: 2.548.. Test loss: 3.610.. Test accuracy: 0.120\n",
            "Epoch 1/1.. Train loss: 7.614.. Test loss: 2.306.. Test accuracy: 0.100\n",
            "Epoch 1/1.. Train loss: 2.240.. Test loss: 2.306.. Test accuracy: 0.100\n",
            "Epoch 1/1.. Train loss: 2.241.. Test loss: 4.638.. Test accuracy: 0.100\n",
            "Epoch 1/1.. Train loss: 1.872.. Test loss: 3.232.. Test accuracy: 0.110\n",
            "Epoch 1/1.. Train loss: 1.511.. Test loss: 2.311.. Test accuracy: 0.100\n",
            "Epoch 1/1.. Train loss: 2.245.. Test loss: 2.319.. Test accuracy: 0.120\n",
            "Epoch 1/1.. Train loss: 2.171.. Test loss: 5.031.. Test accuracy: 0.100\n",
            "Epoch 1/1.. Train loss: 2.321.. Test loss: 4.728.. Test accuracy: 0.100\n",
            "Epoch 1/1.. Train loss: 0.055.. Test loss: 38.390.. Test accuracy: 0.100\n",
            "Epoch 1/1.. Train loss: 73.893.. Test loss: 2.306.. Test accuracy: 0.100\n",
            "Epoch 1/1.. Train loss: 2.174.. Test loss: 2.306.. Test accuracy: 0.100\n",
            "Epoch 1/1.. Train loss: 2.186.. Test loss: 2.306.. Test accuracy: 0.100\n",
            "Epoch 1/1.. Train loss: 2.319.. Test loss: 2.307.. Test accuracy: 0.100\n",
            "Epoch 1/1.. Train loss: 2.315.. Test loss: 2.307.. Test accuracy: 0.100\n",
            "Epoch 1/1.. Train loss: 2.342.. Test loss: 2.307.. Test accuracy: 0.100\n",
            "Epoch 1/1.. Train loss: 2.269.. Test loss: 2.308.. Test accuracy: 0.100\n",
            "Epoch 1/1.. Train loss: 2.298.. Test loss: 2.308.. Test accuracy: 0.100\n",
            "Epoch 1/1.. Train loss: 2.379.. Test loss: 2.308.. Test accuracy: 0.100\n",
            "Epoch 1/1.. Train loss: 2.247.. Test loss: 2.309.. Test accuracy: 0.100\n",
            "Epoch 1/1.. Train loss: 2.153.. Test loss: 2.309.. Test accuracy: 0.100\n",
            "Epoch 1/1.. Train loss: 2.352.. Test loss: 2.310.. Test accuracy: 0.100\n",
            "Epoch 1/1.. Train loss: 2.241.. Test loss: 2.311.. Test accuracy: 0.100\n",
            "Epoch 1/1.. Train loss: 2.249.. Test loss: 2.311.. Test accuracy: 0.100\n",
            "Epoch 1/1.. Train loss: 2.256.. Test loss: 2.313.. Test accuracy: 0.100\n",
            "Epoch 1/1.. Train loss: 2.548.. Test loss: 2.313.. Test accuracy: 0.100\n",
            "Epoch 1/1.. Train loss: 2.547.. Test loss: 2.313.. Test accuracy: 0.100\n",
            "Epoch 1/1.. Train loss: 2.510.. Test loss: 2.312.. Test accuracy: 0.100\n",
            "Epoch 1/1.. Train loss: 2.134.. Test loss: 2.312.. Test accuracy: 0.100\n",
            "Epoch 1/1.. Train loss: 2.494.. Test loss: 2.311.. Test accuracy: 0.100\n",
            "Epoch 1/1.. Train loss: 2.492.. Test loss: 2.311.. Test accuracy: 0.100\n",
            "Epoch 1/1.. Train loss: 2.481.. Test loss: 2.310.. Test accuracy: 0.100\n",
            "Epoch 1/1.. Train loss: 2.140.. Test loss: 2.309.. Test accuracy: 0.100\n",
            "Epoch 1/1.. Train loss: 2.485.. Test loss: 2.309.. Test accuracy: 0.100\n",
            "Epoch 1/1.. Train loss: 2.435.. Test loss: 2.308.. Test accuracy: 0.100\n",
            "Epoch 1/1.. Train loss: 2.418.. Test loss: 2.307.. Test accuracy: 0.100\n",
            "Epoch 1/1.. Train loss: 2.251.. Test loss: 2.307.. Test accuracy: 0.100\n",
            "Epoch 1/1.. Train loss: 2.289.. Test loss: 2.306.. Test accuracy: 0.100\n",
            "Epoch 1/1.. Train loss: 2.247.. Test loss: 2.306.. Test accuracy: 0.100\n",
            "Epoch 1/1.. Train loss: 2.292.. Test loss: 2.306.. Test accuracy: 0.100\n",
            "Epoch 1/1.. Train loss: 2.410.. Test loss: 2.306.. Test accuracy: 0.100\n",
            "Epoch 1/1.. Train loss: 2.283.. Test loss: 2.306.. Test accuracy: 0.100\n",
            "Epoch 1/1.. Train loss: 2.234.. Test loss: 2.306.. Test accuracy: 0.100\n",
            "Epoch 1/1.. Train loss: 2.430.. Test loss: 2.306.. Test accuracy: 0.100\n",
            "Epoch 1/1.. Train loss: 2.286.. Test loss: 2.306.. Test accuracy: 0.100\n",
            "Epoch 1/1.. Train loss: 2.307.. Test loss: 2.306.. Test accuracy: 0.100\n",
            "Epoch 1/1.. Train loss: 2.245.. Test loss: 2.306.. Test accuracy: 0.100\n",
            "Epoch 1/1.. Train loss: 2.351.. Test loss: 2.306.. Test accuracy: 0.100\n",
            "Epoch 1/1.. Train loss: 2.317.. Test loss: 2.306.. Test accuracy: 0.100\n",
            "Epoch 1/1.. Train loss: 2.272.. Test loss: 2.306.. Test accuracy: 0.100\n",
            "Epoch 1/1.. Train loss: 2.294.. Test loss: 2.306.. Test accuracy: 0.100\n",
            "Epoch 1/1.. Train loss: 2.224.. Test loss: 2.307.. Test accuracy: 0.100\n",
            "Epoch 1/1.. Train loss: 2.476.. Test loss: 2.307.. Test accuracy: 0.100\n",
            "Epoch 1/1.. Train loss: 2.339.. Test loss: 2.307.. Test accuracy: 0.100\n",
            "Epoch 1/1.. Train loss: 2.197.. Test loss: 2.307.. Test accuracy: 0.100\n",
            "Epoch 1/1.. Train loss: 2.334.. Test loss: 2.307.. Test accuracy: 0.100\n",
            "Epoch 1/1.. Train loss: 2.216.. Test loss: 2.307.. Test accuracy: 0.100\n",
            "Epoch 1/1.. Train loss: 2.443.. Test loss: 2.307.. Test accuracy: 0.100\n",
            "Epoch 1/1.. Train loss: 2.278.. Test loss: 2.307.. Test accuracy: 0.100\n",
            "Epoch 1/1.. Train loss: 2.328.. Test loss: 2.307.. Test accuracy: 0.100\n",
            "Epoch 1/1.. Train loss: 2.244.. Test loss: 2.307.. Test accuracy: 0.100\n",
            "Epoch 1/1.. Train loss: 2.427.. Test loss: 2.307.. Test accuracy: 0.100\n",
            "Epoch 1/1.. Train loss: 2.193.. Test loss: 2.307.. Test accuracy: 0.100\n",
            "Epoch 1/1.. Train loss: 2.452.. Test loss: 2.307.. Test accuracy: 0.100\n",
            "Epoch 1/1.. Train loss: 2.439.. Test loss: 2.307.. Test accuracy: 0.100\n",
            "Epoch 1/1.. Train loss: 2.418.. Test loss: 2.306.. Test accuracy: 0.100\n",
            "Epoch 1/1.. Train loss: 2.299.. Test loss: 2.306.. Test accuracy: 0.100\n",
            "Epoch 1/1.. Train loss: 2.262.. Test loss: 2.306.. Test accuracy: 0.100\n",
            "Epoch 1/1.. Train loss: 2.472.. Test loss: 2.306.. Test accuracy: 0.100\n",
            "Epoch 1/1.. Train loss: 2.346.. Test loss: 2.305.. Test accuracy: 0.100\n",
            "Epoch 1/1.. Train loss: 2.265.. Test loss: 2.305.. Test accuracy: 0.100\n",
            "Epoch 1/1.. Train loss: 2.326.. Test loss: 2.305.. Test accuracy: 0.100\n",
            "Epoch 1/1.. Train loss: 2.461.. Test loss: 2.305.. Test accuracy: 0.100\n",
            "Epoch 1/1.. Train loss: 2.184.. Test loss: 2.305.. Test accuracy: 0.100\n",
            "Epoch 1/1.. Train loss: 2.253.. Test loss: 2.305.. Test accuracy: 0.100\n",
            "Epoch 1/1.. Train loss: 2.453.. Test loss: 2.305.. Test accuracy: 0.100\n",
            "Epoch 1/1.. Train loss: 2.268.. Test loss: 2.305.. Test accuracy: 0.100\n",
            "Epoch 1/1.. Train loss: 2.242.. Test loss: 2.305.. Test accuracy: 0.100\n",
            "Epoch 1/1.. Train loss: 2.287.. Test loss: 2.305.. Test accuracy: 0.100\n",
            "Epoch 1/1.. Train loss: 2.286.. Test loss: 2.305.. Test accuracy: 0.100\n",
            "Epoch 1/1.. Train loss: 2.286.. Test loss: 2.305.. Test accuracy: 0.100\n",
            "Epoch 1/1.. Train loss: 2.183.. Test loss: 2.305.. Test accuracy: 0.100\n",
            "Epoch 1/1.. Train loss: 2.284.. Test loss: 2.306.. Test accuracy: 0.100\n",
            "Epoch 1/1.. Train loss: 2.222.. Test loss: 2.306.. Test accuracy: 0.100\n",
            "Epoch 1/1.. Train loss: 2.355.. Test loss: 2.306.. Test accuracy: 0.100\n",
            "Epoch 1/1.. Train loss: 2.431.. Test loss: 2.306.. Test accuracy: 0.100\n",
            "Epoch 1/1.. Train loss: 2.349.. Test loss: 2.306.. Test accuracy: 0.100\n",
            "Epoch 1/1.. Train loss: 2.343.. Test loss: 2.307.. Test accuracy: 0.100\n",
            "Epoch 1/1.. Train loss: 2.334.. Test loss: 2.307.. Test accuracy: 0.100\n",
            "Epoch 1/1.. Train loss: 2.171.. Test loss: 2.307.. Test accuracy: 0.100\n",
            "Epoch 1/1.. Train loss: 2.281.. Test loss: 2.308.. Test accuracy: 0.100\n",
            "Epoch 1/1.. Train loss: 2.277.. Test loss: 2.308.. Test accuracy: 0.100\n",
            "Epoch 1/1.. Train loss: 2.517.. Test loss: 2.308.. Test accuracy: 0.100\n",
            "Epoch 1/1.. Train loss: 2.267.. Test loss: 2.308.. Test accuracy: 0.100\n",
            "Epoch 1/1.. Train loss: 2.439.. Test loss: 2.308.. Test accuracy: 0.100\n",
            "Epoch 1/1.. Train loss: 2.283.. Test loss: 2.308.. Test accuracy: 0.100\n",
            "Epoch 1/1.. Train loss: 2.191.. Test loss: 2.308.. Test accuracy: 0.100\n",
            "Epoch 1/1.. Train loss: 2.189.. Test loss: 2.308.. Test accuracy: 0.100\n",
            "Epoch 1/1.. Train loss: 2.269.. Test loss: 2.308.. Test accuracy: 0.100\n",
            "Epoch 1/1.. Train loss: 2.180.. Test loss: 2.309.. Test accuracy: 0.100\n",
            "Epoch 1/1.. Train loss: 2.309.. Test loss: 2.309.. Test accuracy: 0.100\n",
            "Epoch 1/1.. Train loss: 2.281.. Test loss: 2.309.. Test accuracy: 0.100\n",
            "Epoch 1/1.. Train loss: 2.307.. Test loss: 2.309.. Test accuracy: 0.100\n",
            "Epoch 1/1.. Train loss: 2.171.. Test loss: 2.309.. Test accuracy: 0.100\n",
            "Epoch 1/1.. Train loss: 2.264.. Test loss: 2.310.. Test accuracy: 0.100\n",
            "Epoch 1/1.. Train loss: 2.272.. Test loss: 2.310.. Test accuracy: 0.100\n",
            "Epoch 1/1.. Train loss: 2.236.. Test loss: 2.311.. Test accuracy: 0.100\n",
            "Epoch 1/1.. Train loss: 2.253.. Test loss: 2.311.. Test accuracy: 0.100\n",
            "Epoch 1/1.. Train loss: 2.578.. Test loss: 2.311.. Test accuracy: 0.100\n",
            "Epoch 1/1.. Train loss: 2.573.. Test loss: 2.311.. Test accuracy: 0.100\n",
            "Epoch 1/1.. Train loss: 2.556.. Test loss: 2.310.. Test accuracy: 0.100\n",
            "Epoch 1/1.. Train loss: 2.231.. Test loss: 2.310.. Test accuracy: 0.100\n",
            "Epoch 1/1.. Train loss: 2.290.. Test loss: 2.309.. Test accuracy: 0.100\n",
            "Epoch 1/1.. Train loss: 2.184.. Test loss: 2.309.. Test accuracy: 0.100\n",
            "Epoch 1/1.. Train loss: 2.277.. Test loss: 2.309.. Test accuracy: 0.100\n",
            "Epoch 1/1.. Train loss: 2.183.. Test loss: 2.309.. Test accuracy: 0.100\n",
            "Epoch 1/1.. Train loss: 2.460.. Test loss: 2.309.. Test accuracy: 0.100\n",
            "Epoch 1/1.. Train loss: 2.248.. Test loss: 2.309.. Test accuracy: 0.100\n",
            "Epoch 1/1.. Train loss: 2.435.. Test loss: 2.309.. Test accuracy: 0.100\n",
            "Epoch 1/1.. Train loss: 2.176.. Test loss: 2.309.. Test accuracy: 0.100\n",
            "Epoch 1/1.. Train loss: 2.247.. Test loss: 2.309.. Test accuracy: 0.100\n",
            "Epoch 1/1.. Train loss: 2.281.. Test loss: 2.309.. Test accuracy: 0.100\n",
            "Epoch 1/1.. Train loss: 2.185.. Test loss: 2.309.. Test accuracy: 0.100\n",
            "Epoch 1/1.. Train loss: 2.287.. Test loss: 2.309.. Test accuracy: 0.100\n",
            "Epoch 1/1.. Train loss: 2.515.. Test loss: 2.309.. Test accuracy: 0.100\n",
            "Epoch 1/1.. Train loss: 2.245.. Test loss: 2.309.. Test accuracy: 0.100\n",
            "Epoch 1/1.. Train loss: 2.275.. Test loss: 2.309.. Test accuracy: 0.100\n",
            "Epoch 1/1.. Train loss: 2.285.. Test loss: 2.309.. Test accuracy: 0.100\n",
            "Epoch 1/1.. Train loss: 2.499.. Test loss: 2.309.. Test accuracy: 0.100\n",
            "Epoch 1/1.. Train loss: 2.267.. Test loss: 2.309.. Test accuracy: 0.100\n",
            "Epoch 1/1.. Train loss: 2.244.. Test loss: 2.309.. Test accuracy: 0.100\n",
            "Epoch 1/1.. Train loss: 2.343.. Test loss: 2.309.. Test accuracy: 0.100\n",
            "Epoch 1/1.. Train loss: 2.255.. Test loss: 2.309.. Test accuracy: 0.100\n",
            "Epoch 1/1.. Train loss: 2.518.. Test loss: 2.309.. Test accuracy: 0.100\n",
            "Epoch 1/1.. Train loss: 2.244.. Test loss: 2.309.. Test accuracy: 0.100\n",
            "Epoch 1/1.. Train loss: 2.356.. Test loss: 2.309.. Test accuracy: 0.100\n",
            "Epoch 1/1.. Train loss: 2.351.. Test loss: 2.308.. Test accuracy: 0.100\n",
            "Epoch 1/1.. Train loss: 2.182.. Test loss: 2.308.. Test accuracy: 0.100\n",
            "Epoch 1/1.. Train loss: 2.281.. Test loss: 2.308.. Test accuracy: 0.100\n",
            "Epoch 1/1.. Train loss: 2.505.. Test loss: 2.308.. Test accuracy: 0.100\n",
            "Epoch 1/1.. Train loss: 2.221.. Test loss: 2.308.. Test accuracy: 0.100\n",
            "Epoch 1/1.. Train loss: 2.496.. Test loss: 2.308.. Test accuracy: 0.100\n",
            "Epoch 1/1.. Train loss: 2.249.. Test loss: 2.308.. Test accuracy: 0.100\n",
            "Epoch 1/1.. Train loss: 2.310.. Test loss: 2.308.. Test accuracy: 0.100\n",
            "Epoch 1/1.. Train loss: 2.190.. Test loss: 2.307.. Test accuracy: 0.100\n",
            "Epoch 1/1.. Train loss: 2.227.. Test loss: 2.307.. Test accuracy: 0.100\n",
            "Epoch 1/1.. Train loss: 2.263.. Test loss: 2.307.. Test accuracy: 0.100\n"
          ]
        },
        {
          "output_type": "error",
          "ename": "KeyboardInterrupt",
          "evalue": "ignored",
          "traceback": [
            "\u001b[0;31m---------------------------------------------------------------------------\u001b[0m",
            "\u001b[0;31mKeyboardInterrupt\u001b[0m                         Traceback (most recent call last)",
            "\u001b[0;32m<ipython-input-57-649b7f38a8fa>\u001b[0m in \u001b[0;36m<module>\u001b[0;34m()\u001b[0m\n\u001b[1;32m     25\u001b[0m                     \u001b[0mlogps\u001b[0m \u001b[0;34m=\u001b[0m \u001b[0mmodel\u001b[0m\u001b[0;34m.\u001b[0m\u001b[0mforward\u001b[0m\u001b[0;34m(\u001b[0m\u001b[0minputs\u001b[0m\u001b[0;34m)\u001b[0m\u001b[0;34m\u001b[0m\u001b[0;34m\u001b[0m\u001b[0m\n\u001b[1;32m     26\u001b[0m                     \u001b[0mbatch_loss\u001b[0m \u001b[0;34m=\u001b[0m \u001b[0mcriterion\u001b[0m\u001b[0;34m(\u001b[0m\u001b[0mlogps\u001b[0m\u001b[0;34m,\u001b[0m \u001b[0mlabels\u001b[0m\u001b[0;34m)\u001b[0m\u001b[0;34m\u001b[0m\u001b[0;34m\u001b[0m\u001b[0m\n\u001b[0;32m---> 27\u001b[0;31m                     \u001b[0mtest_loss\u001b[0m \u001b[0;34m+=\u001b[0m \u001b[0mbatch_loss\u001b[0m\u001b[0;34m.\u001b[0m\u001b[0mitem\u001b[0m\u001b[0;34m(\u001b[0m\u001b[0;34m)\u001b[0m\u001b[0;34m\u001b[0m\u001b[0;34m\u001b[0m\u001b[0m\n\u001b[0m\u001b[1;32m     28\u001b[0m \u001b[0;34m\u001b[0m\u001b[0m\n\u001b[1;32m     29\u001b[0m                     \u001b[0mps\u001b[0m \u001b[0;34m=\u001b[0m \u001b[0mtorch\u001b[0m\u001b[0;34m.\u001b[0m\u001b[0mexp\u001b[0m\u001b[0;34m(\u001b[0m\u001b[0mlogps\u001b[0m\u001b[0;34m)\u001b[0m\u001b[0;34m\u001b[0m\u001b[0;34m\u001b[0m\u001b[0m\n",
            "\u001b[0;31mKeyboardInterrupt\u001b[0m: "
          ]
        }
      ]
    },
    {
      "cell_type": "code",
      "source": [
        "torch.save(model, 'working_mod.pth')"
      ],
      "metadata": {
        "id": "gbW_dML2Tbg-"
      },
      "execution_count": null,
      "outputs": []
    },
    {
      "cell_type": "code",
      "source": [
        "plt.plot(train_losses, label='Training loss')\n",
        "plt.plot(test_losses, label='Test loss')\n",
        "plt.legend(frameon=False)\n",
        "plt.xlabel(\"Steps\")\n",
        "plt.ylabel(\"Loss\")\n",
        "plt.ylim(0,3)\n",
        "plt.title(\"Ceylan 2021 Model on GTZAN Dataset\")\n",
        "plt.show()"
      ],
      "metadata": {
        "id": "ib9NMiS7ibvl",
        "colab": {
          "base_uri": "https://localhost:8080/",
          "height": 294
        },
        "outputId": "1d637f4d-05be-460d-cfce-3ed72684677e"
      },
      "execution_count": null,
      "outputs": [
        {
          "output_type": "display_data",
          "data": {
            "image/png": "[encoded data removed]",
            "text/plain": [
              "<Figure size 432x288 with 1 Axes>"
            ]
          },
          "metadata": {
            "image/png": {
              "width": 387,
              "height": 277
            },
            "needs_background": "light"
          }
        }
      ]
    }
  ]
}